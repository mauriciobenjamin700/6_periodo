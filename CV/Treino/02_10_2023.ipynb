{
 "cells": [
  {
   "cell_type": "markdown",
   "metadata": {},
   "source": [
    "Faça um programa que peça a temperatura em graus Farenheit, transforme\n",
    " e mostre a temperatura em graus Celsius: C = (5* (F-32)/9)."
   ]
  },
  {
   "cell_type": "code",
   "execution_count": 3,
   "metadata": {},
   "outputs": [
    {
     "name": "stdout",
     "output_type": "stream",
     "text": [
      "0.43\n"
     ]
    }
   ],
   "source": [
    "temperatura = float(input('Temperatura (F): '))\n",
    "\n",
    "celsius = (5*(temperatura-32)/9)\n",
    "\n",
    "print(f'{celsius:.2f}')"
   ]
  },
  {
   "cell_type": "markdown",
   "metadata": {},
   "source": [
    "João papo-de-pescador comprou um microcomputador para controlar o rendimento diário de seu trabalho. Toda ves que ele traz um peso de peixes maior que o estabelecido pelo regulamento de pesca do estado de são paulo (50 quilos) deve pagar uma multa de 4.0 R$ por quilo excedente. João precisa que vocẽ faça um programa que leia a varíavel peso (peso de peixes) e calcule o excesso. Gravar na variável excesso a quantidade de quilos além do limite e na variável multa o valor da multa que joão deverá pagar. Imprimo os dados do programa com as mensagens adequadas."
   ]
  },
  {
   "cell_type": "code",
   "execution_count": 13,
   "metadata": {},
   "outputs": [
    {
     "name": "stdout",
     "output_type": "stream",
     "text": [
      "Não houve problemas com sua pesca!\n"
     ]
    }
   ],
   "source": [
    "peso = float(input(\"KG: \"))\n",
    "\n",
    "REGULAMENTO = 50.0\n",
    "\n",
    "MULTA = 4.0\n",
    "\n",
    "excesso = 0\n",
    "mult = 0\n",
    "\n",
    "if peso > REGULAMENTO:\n",
    "    excesso = peso - REGULAMENTO\n",
    "    \n",
    "mult = excesso * MULTA\n",
    "\n",
    "if(mult == 0 ):  \n",
    "    print(F\"Não houve problemas com sua pesca!\")\n",
    "else:\n",
    "    print(f\"Sua pesca de {peso} excedeu em {excesso} o regulamento de {REGULAMENTO} gerando uma multa de {mult:.2f}\")"
   ]
  },
  {
   "cell_type": "markdown",
   "metadata": {},
   "source": [
    "Faça um programa que pergunte quanto você ganha por hora e o número de horas trabalhadas no mês.\n",
    "Calcule e mostre o total do seu salário no referido mês, sabe-se que são descontados 11% para o imposto de \n",
    "Renda, 8% para o INSS e 5% para o sindicato, faça um programa que nos dê:\n",
    "\n",
    "a) salário bruto;\n",
    "b) quanto pagou ao INSS;\n",
    "c) quanto pagou ao sindicato.\n",
    "d) o salário líquido\n",
    "e) calcule os descontos e o salário líquido, conforme a tabela a baixo:\n",
    "    + Salário Bruto : R$\n",
    "    - IR (11%) : R$\n",
    "    - INSS (8%) : R$\n",
    "    - Sindicato (5%) : R$\n",
    "    = Salário Liquido : R$  -> salário bruto - descontos == salário líquido\n"
   ]
  },
  {
   "cell_type": "code",
   "execution_count": 15,
   "metadata": {},
   "outputs": [
    {
     "name": "stdout",
     "output_type": "stream",
     "text": [
      "\n",
      "Salario bruto: 1320.00\n",
      "Imposto de Renda: 145.20\n",
      "Taxa INSS: 105.60\n",
      "Taxa Sindicato: 66.00\n",
      "Salário Líquido: 1003.20\n"
     ]
    }
   ],
   "source": [
    "valor_hora = float(input(\"Valor da Hora: \"))\n",
    "hora = int(input(\"Horas Trabalhadas: \"))\n",
    "\n",
    "salario_bruto = valor_hora * hora\n",
    "\n",
    "imposto_renda = salario_bruto * 0.11\n",
    "imposto_INSS = salario_bruto * 0.08\n",
    "imposto_sindicato = salario_bruto * 0.05\n",
    "salario_liquido = salario_bruto - (imposto_renda + imposto_INSS + imposto_sindicato)\n",
    "\n",
    "print(f\"\\nSalario bruto: {salario_bruto:.2f}\\nImposto de Renda: {imposto_renda:.2f}\\nTaxa INSS: {imposto_INSS:.2f}\\nTaxa Sindicato: {imposto_sindicato:.2f}\\nSalário Líquido: {salario_liquido:.2f}\")\n",
    "\n"
   ]
  }
 ],
 "metadata": {
  "kernelspec": {
   "display_name": "Python 3",
   "language": "python",
   "name": "python3"
  },
  "language_info": {
   "codemirror_mode": {
    "name": "ipython",
    "version": 3
   },
   "file_extension": ".py",
   "mimetype": "text/x-python",
   "name": "python",
   "nbconvert_exporter": "python",
   "pygments_lexer": "ipython3",
   "version": "3.10.12"
  },
  "orig_nbformat": 4
 },
 "nbformat": 4,
 "nbformat_minor": 2
}
