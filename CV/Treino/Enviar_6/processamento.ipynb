{
 "cells": [
  {
   "cell_type": "code",
   "execution_count": 26,
   "metadata": {},
   "outputs": [
    {
     "name": "stderr",
     "output_type": "stream",
     "text": [
      "4183.55s - pydevd: Sending message related to process being replaced timed-out after 5 seconds\n"
     ]
    },
    {
     "name": "stdout",
     "output_type": "stream",
     "text": [
      "Requirement already satisfied: opencv-python in ./.venv/lib/python3.10/site-packages (4.9.0.80)\n",
      "Requirement already satisfied: numpy>=1.21.2 in ./.venv/lib/python3.10/site-packages (from opencv-python) (1.26.3)\n",
      "Note: you may need to restart the kernel to use updated packages.\n"
     ]
    },
    {
     "name": "stderr",
     "output_type": "stream",
     "text": [
      "4189.39s - pydevd: Sending message related to process being replaced timed-out after 5 seconds\n"
     ]
    },
    {
     "name": "stdout",
     "output_type": "stream",
     "text": [
      "Requirement already satisfied: scikit-learn in ./.venv/lib/python3.10/site-packages (1.3.2)\n",
      "Requirement already satisfied: numpy<2.0,>=1.17.3 in ./.venv/lib/python3.10/site-packages (from scikit-learn) (1.26.3)\n",
      "Requirement already satisfied: scipy>=1.5.0 in ./.venv/lib/python3.10/site-packages (from scikit-learn) (1.11.4)\n",
      "Requirement already satisfied: joblib>=1.1.1 in ./.venv/lib/python3.10/site-packages (from scikit-learn) (1.3.2)\n",
      "Requirement already satisfied: threadpoolctl>=2.0.0 in ./.venv/lib/python3.10/site-packages (from scikit-learn) (3.2.0)\n",
      "Note: you may need to restart the kernel to use updated packages.\n"
     ]
    },
    {
     "name": "stderr",
     "output_type": "stream",
     "text": [
      "4195.20s - pydevd: Sending message related to process being replaced timed-out after 5 seconds\n"
     ]
    },
    {
     "name": "stdout",
     "output_type": "stream",
     "text": [
      "Requirement already satisfied: matplotlib in ./.venv/lib/python3.10/site-packages (3.8.2)\n",
      "Requirement already satisfied: contourpy>=1.0.1 in ./.venv/lib/python3.10/site-packages (from matplotlib) (1.2.0)\n",
      "Requirement already satisfied: cycler>=0.10 in ./.venv/lib/python3.10/site-packages (from matplotlib) (0.12.1)\n",
      "Requirement already satisfied: fonttools>=4.22.0 in ./.venv/lib/python3.10/site-packages (from matplotlib) (4.47.2)\n",
      "Requirement already satisfied: kiwisolver>=1.3.1 in ./.venv/lib/python3.10/site-packages (from matplotlib) (1.4.5)\n",
      "Requirement already satisfied: numpy<2,>=1.21 in ./.venv/lib/python3.10/site-packages (from matplotlib) (1.26.3)\n",
      "Requirement already satisfied: packaging>=20.0 in ./.venv/lib/python3.10/site-packages (from matplotlib) (23.2)\n",
      "Requirement already satisfied: pillow>=8 in ./.venv/lib/python3.10/site-packages (from matplotlib) (10.2.0)\n",
      "Requirement already satisfied: pyparsing>=2.3.1 in ./.venv/lib/python3.10/site-packages (from matplotlib) (3.1.1)\n",
      "Requirement already satisfied: python-dateutil>=2.7 in ./.venv/lib/python3.10/site-packages (from matplotlib) (2.8.2)\n",
      "Requirement already satisfied: six>=1.5 in ./.venv/lib/python3.10/site-packages (from python-dateutil>=2.7->matplotlib) (1.16.0)\n",
      "Note: you may need to restart the kernel to use updated packages.\n"
     ]
    }
   ],
   "source": [
    "%pip install opencv-python\n",
    "%pip install scikit-learn\n",
    "%pip install matplotlib\n"
   ]
  },
  {
   "cell_type": "code",
   "execution_count": 27,
   "metadata": {},
   "outputs": [],
   "source": [
    "from glob import glob\n",
    "import cv2\n",
    "from os.path import basename,exists, join\n",
    "from os import mkdir\n",
    "from sklearn.cluster import KMeans\n",
    "import numpy as np\n"
   ]
  },
  {
   "cell_type": "code",
   "execution_count": 33,
   "metadata": {},
   "outputs": [],
   "source": [
    "root = \"cropped\"\n",
    "paths = glob(join(root,\"*.bmp\"))\n",
    "dirs = [\"1-I\",\"1-II\",\"1-III\",\"2\"]\n",
    "\n",
    "for dir in dirs:\n",
    "    if not exists(dir):\n",
    "        mkdir(dir)\n",
    "        \n"
   ]
  },
  {
   "cell_type": "markdown",
   "metadata": {},
   "source": [
    "# 1 - I"
   ]
  },
  {
   "cell_type": "code",
   "execution_count": 29,
   "metadata": {},
   "outputs": [],
   "source": [
    "for file in paths:\n",
    "\n",
    "    imagem = cv2.imread(file)\n",
    "    altura, largura = imagem.shape[:2]\n",
    "\n",
    "    # Convertendo a imagem para um array de pixels\n",
    "    pixels = imagem.reshape((imagem.shape[0] * imagem.shape[1], 3))\n",
    "\n",
    "\n",
    "    kmeans = KMeans(n_clusters=8, n_init=10)\n",
    "    kmeans.fit(pixels)\n",
    "\n",
    "    # Substituindo os pixels pelos valores dos centroides\n",
    "    segmented_img = kmeans.cluster_centers_[kmeans.labels_]\n",
    "    segmented_img = segmented_img.reshape(imagem.shape)\n",
    "\n",
    "    # Convertendo para escala de cinza para aplicar o detector de bordas\n",
    "    gray_img = cv2.cvtColor(segmented_img.astype(np.uint8), cv2.COLOR_BGR2GRAY)\n",
    "\n",
    "    # Aplicando o detector de bordas Canny\n",
    "    edges = cv2.Canny(gray_img, 100, 200)\n",
    "\n",
    "    outpu2save = join(dirs[0], basename(file))\n",
    "    \n",
    "    cv2.imwrite(outpu2save,edges)\n",
    "\n"
   ]
  },
  {
   "cell_type": "markdown",
   "metadata": {},
   "source": [
    "# 1 - 2"
   ]
  },
  {
   "cell_type": "code",
   "execution_count": 30,
   "metadata": {},
   "outputs": [],
   "source": [
    "for file in paths:\n",
    "    \n",
    "    image = cv2.imread(file,cv2.IMREAD_GRAYSCALE)\n",
    "    \n",
    "    # Binarização local usando Niblack\n",
    "    niblack_binary = cv2.adaptiveThreshold(image, 255, cv2.ADAPTIVE_THRESH_MEAN_C, cv2.THRESH_BINARY, 11, 2)\n",
    "\n",
    "    # Binarização global usando Otsu\n",
    "    _, otsu_binary = cv2.threshold(image, 0, 255, cv2.THRESH_BINARY + cv2.THRESH_OTSU)\n",
    "\n",
    "    # Detecção de bordas por gradiente usando Sobel\n",
    "    sobel_x = cv2.Sobel(image, cv2.CV_64F, 1, 0, ksize=3)\n",
    "    sobel_y = cv2.Sobel(image, cv2.CV_64F, 0, 1, ksize=3)\n",
    "    sobel_edges = np.sqrt(sobel_x**2 + sobel_y**2).astype(np.uint8)\n",
    "\n",
    "    # Detecção de bordas por gradiente usando Canny\n",
    "    canny_edges = cv2.Canny(image, 50, 150)\n",
    "\n",
    "\n",
    "    niblack = join(dirs[1], \"niblack_\" + basename(file))\n",
    "    otsu = join(dirs[1], \"otsu_\" + basename(file))\n",
    "    sobel = join(dirs[1], \"sobel_\" + basename(file))\n",
    "    canny = join(dirs[1], \"canny_\" + basename(file))\n",
    "    \n",
    "    cv2.imwrite(niblack,niblack_binary)\n",
    "    cv2.imwrite(otsu,otsu_binary)\n",
    "    cv2.imwrite(sobel,sobel_edges)\n",
    "    cv2.imwrite(canny,canny_edges)"
   ]
  },
  {
   "cell_type": "markdown",
   "metadata": {},
   "source": [
    "# 1 - III"
   ]
  },
  {
   "cell_type": "code",
   "execution_count": 31,
   "metadata": {},
   "outputs": [],
   "source": [
    "for file in paths:\n",
    "    \n",
    "    sigma = 1.4\n",
    "    image = cv2.imread(file,cv2.IMREAD_GRAYSCALE)\n",
    "\n",
    "\n",
    "    blurred = cv2.GaussianBlur(image, (0, 0), sigma)\n",
    "    laplacian = cv2.Laplacian(blurred, cv2.CV_64F)\n",
    "\n",
    "    # Encontrar cruzamentos por zero\n",
    "    edges = np.zeros_like(laplacian)\n",
    "    edges[laplacian > 0] = 255\n",
    "\n",
    "    outpu2save = join(dirs[2], \"edges_\" + basename(file))\n",
    "\n",
    "    \n",
    "    cv2.imwrite(outpu2save,edges)\n"
   ]
  },
  {
   "cell_type": "markdown",
   "metadata": {},
   "source": [
    "# 2"
   ]
  },
  {
   "cell_type": "code",
   "execution_count": 34,
   "metadata": {},
   "outputs": [],
   "source": [
    "import cv2\n",
    "import numpy as np\n",
    "from sklearn.cluster import KMeans\n",
    "import matplotlib.pyplot as plt\n",
    "\n",
    "def automatic_foreground_background_selection(image_path):\n",
    "\n",
    "    image = cv2.imread(image_path, cv2.IMREAD_GRAYSCALE)\n",
    "\n",
    "\n",
    "    sigma = 1.4\n",
    "    image_gray = cv2.GaussianBlur(image, (0, 0), sigma)\n",
    "\n",
    "\n",
    "    pixels = image_gray.reshape((-1, 1))\n",
    "\n",
    "\n",
    "    kmeans = KMeans(n_clusters=2, random_state=0, n_init=10)\n",
    "    kmeans.fit(pixels)\n",
    "\n",
    "\n",
    "    labels = kmeans.labels_\n",
    "\n",
    "\n",
    "    background_cluster = np.argmax(np.bincount(labels))\n",
    "\n",
    "\n",
    "    background_mask = (labels == background_cluster).reshape(image.shape[:2])\n",
    "\n",
    "    # Invertendo a máscara para obter a máscara do foreground\n",
    "    foreground_mask = ~background_mask\n",
    "\n",
    "\n",
    "    foreground = cv2.bitwise_and(image, image, mask=foreground_mask.astype(np.uint8))\n",
    "    background = cv2.bitwise_and(image, image, mask=background_mask.astype(np.uint8))\n",
    "\n",
    "    return foreground, background\n",
    "\n",
    "for file in paths:\n",
    "\n",
    "\n",
    "    foreground, background = automatic_foreground_background_selection(file)\n",
    "    \n",
    "    f = join(dirs[3], basename(file) + \"foreground.bmp\")\n",
    "    b = join(dirs[3], basename(file) + \"background.bmp\")\n",
    "\n",
    "    cv2.imwrite(f,foreground)\n",
    "    cv2.imwrite(b,background)\n",
    "\n",
    "\n",
    "\n",
    "\n"
   ]
  }
 ],
 "metadata": {
  "language_info": {
   "name": "python"
  }
 },
 "nbformat": 4,
 "nbformat_minor": 2
}
