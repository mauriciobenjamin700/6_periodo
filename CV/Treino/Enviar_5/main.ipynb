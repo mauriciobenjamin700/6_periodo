{
 "cells": [
  {
   "cell_type": "code",
   "execution_count": 3,
   "metadata": {},
   "outputs": [
    {
     "name": "stdout",
     "output_type": "stream",
     "text": [
      "Collecting numpy\n",
      "  Downloading numpy-1.26.2-cp311-cp311-manylinux_2_17_x86_64.manylinux2014_x86_64.whl.metadata (61 kB)\n",
      "\u001b[2K     \u001b[90m━━━━━━━━━━━━━━━━━━━━━━━━━━━━━━━━━━━━━━━\u001b[0m \u001b[32m61.2/61.2 kB\u001b[0m \u001b[31m727.1 kB/s\u001b[0m eta \u001b[36m0:00:00\u001b[0m \u001b[36m0:00:01\u001b[0m\n",
      "\u001b[?25hDownloading numpy-1.26.2-cp311-cp311-manylinux_2_17_x86_64.manylinux2014_x86_64.whl (18.2 MB)\n",
      "\u001b[2K   \u001b[90m━━━━━━━━━━━━━━━━━━━━━━━━━━━━━━━━━━━━━━━━\u001b[0m \u001b[32m18.2/18.2 MB\u001b[0m \u001b[31m2.3 MB/s\u001b[0m eta \u001b[36m0:00:00\u001b[0m00:01\u001b[0m00:01\u001b[0m\n",
      "\u001b[?25hInstalling collected packages: numpy\n",
      "Successfully installed numpy-1.26.2\n",
      "Collecting opencv-python\n",
      "  Using cached opencv_python-4.8.1.78-cp37-abi3-manylinux_2_17_x86_64.manylinux2014_x86_64.whl.metadata (19 kB)\n",
      "Requirement already satisfied: numpy>=1.21.2 in ./.venv/lib/python3.11/site-packages (from opencv-python) (1.26.2)\n",
      "Using cached opencv_python-4.8.1.78-cp37-abi3-manylinux_2_17_x86_64.manylinux2014_x86_64.whl (61.7 MB)\n",
      "Installing collected packages: opencv-python\n",
      "Successfully installed opencv-python-4.8.1.78\n"
     ]
    }
   ],
   "source": [
    "!pip install numpy\n",
    "!pip install opencv-python"
   ]
  },
  {
   "cell_type": "code",
   "execution_count": 4,
   "metadata": {},
   "outputs": [],
   "source": [
    "import numpy as np\n",
    "\n",
    "def apply_convolution(image, kernel, border_handling):\n",
    "    # Verifica se a imagem é colorida ou em tons de cinza\n",
    "    is_color = len(image.shape) == 3 and image.shape[2] == 3\n",
    "\n",
    "    # Verifica o tratamento da borda\n",
    "    if border_handling == 'ignore':\n",
    "        pass  # Não trataremos a borda neste exemplo\n",
    "    elif border_handling == 'espelho':\n",
    "        # Você pode implementar o tratamento espelhado da borda aqui\n",
    "        pass\n",
    "    elif border_handling == 'zero':\n",
    "        # Você pode implementar o tratamento com pixels de valor zero na borda aqui\n",
    "        pass\n",
    "    elif border_handling == 'replicar':\n",
    "        # Você pode implementar o tratamento de replicação da borda aqui\n",
    "        pass\n",
    "    else:\n",
    "        raise ValueError(\"Modo de tratamento de borda inválido\")\n",
    "\n",
    "    # Aplica a convolução para cada canal de cor, se a imagem for colorida\n",
    "    if is_color:\n",
    "        result = []\n",
    "        for i in range(3):  # Para cada canal de cor\n",
    "            convolved_channel = apply_convolution_single_channel(image[:, :, i], kernel)\n",
    "            result.append(convolved_channel)\n",
    "        result = np.stack(result, axis=-1)\n",
    "    else:\n",
    "        # Se for em tons de cinza\n",
    "        result = apply_convolution_single_channel(image, kernel)\n",
    "\n",
    "    return result\n",
    "\n",
    "def apply_convolution_single_channel(image, kernel):\n",
    "    # Dimensões da imagem e do kernel\n",
    "    image_height, image_width = image.shape\n",
    "    kernel_height, kernel_width = kernel.shape\n",
    "\n",
    "    # Calcula o padding necessário para manter o tamanho da imagem após a convolução\n",
    "    pad_height = kernel_height // 2\n",
    "    pad_width = kernel_width // 2\n",
    "\n",
    "    # Aplica zero-padding na imagem\n",
    "    padded_image = np.pad(image, ((pad_height, pad_height), (pad_width, pad_width)), mode='constant')\n",
    "\n",
    "    # Realiza a convolução\n",
    "    result = np.zeros_like(image)\n",
    "    for i in range(image_height):\n",
    "        for j in range(image_width):\n",
    "            # Obtém a região correspondente do kernel\n",
    "            region = padded_image[i:i+kernel_height, j:j+kernel_width]\n",
    "            # Realiza o produto elemento a elemento entre o kernel e a região da imagem\n",
    "            result[i, j] = np.sum(region * kernel)\n",
    "\n",
    "    return result\n"
   ]
  },
  {
   "cell_type": "code",
   "execution_count": 1,
   "metadata": {},
   "outputs": [
    {
     "ename": "ModuleNotFoundError",
     "evalue": "No module named 'numpy'",
     "output_type": "error",
     "traceback": [
      "\u001b[0;31m---------------------------------------------------------------------------\u001b[0m",
      "\u001b[0;31mModuleNotFoundError\u001b[0m                       Traceback (most recent call last)",
      "\u001b[1;32m/home/mauriciorocha70/Documentos/GitHub/6_periodo/CV/Treino/Enviar_5/main.ipynb Cell 2\u001b[0m line \u001b[0;36m1\n\u001b[0;32m----> <a href='vscode-notebook-cell:/home/mauriciorocha70/Documentos/GitHub/6_periodo/CV/Treino/Enviar_5/main.ipynb#W0sZmlsZQ%3D%3D?line=0'>1</a>\u001b[0m \u001b[39mimport\u001b[39;00m \u001b[39mnumpy\u001b[39;00m \u001b[39mas\u001b[39;00m \u001b[39mnp\u001b[39;00m\n\u001b[1;32m      <a href='vscode-notebook-cell:/home/mauriciorocha70/Documentos/GitHub/6_periodo/CV/Treino/Enviar_5/main.ipynb#W0sZmlsZQ%3D%3D?line=1'>2</a>\u001b[0m \u001b[39mdef\u001b[39;00m \u001b[39mconvolucao\u001b[39m(imagem:np\u001b[39m.\u001b[39mndarray, filtro:np\u001b[39m.\u001b[39mndarray, borda:\u001b[39mstr\u001b[39m\u001b[39m=\u001b[39m\u001b[39m\"\u001b[39m\u001b[39mignore\u001b[39m\u001b[39m\"\u001b[39m):\n\u001b[1;32m      <a href='vscode-notebook-cell:/home/mauriciorocha70/Documentos/GitHub/6_periodo/CV/Treino/Enviar_5/main.ipynb#W0sZmlsZQ%3D%3D?line=3'>4</a>\u001b[0m     tipo \u001b[39m=\u001b[39m \u001b[39m'\u001b[39m\u001b[39mcinza\u001b[39m\u001b[39m'\u001b[39m\n",
      "\u001b[0;31mModuleNotFoundError\u001b[0m: No module named 'numpy'"
     ]
    }
   ],
   "source": [
    "import numpy as np\n",
    "def convolucao(imagem:np.ndarray, filtro:np.ndarray, borda:str=\"ignore\"):\n",
    "    \n",
    "    tipo = 'cinza'\n",
    "    # checagem se é colorida ou não\n",
    "    if len(imagem.shape) == 3 and imagem.shape[2] == 3:\n",
    "        tipo = 'colorida'\n",
    "    \n",
    "    match borda:\n",
    "        case \"ignore\":\n",
    "            pass\n",
    "        \n",
    "        case \"espelho\":\n",
    "            pass\n",
    "        \n",
    "        case \"zero\":\n",
    "            pass\n",
    "        \n",
    "        case \"replicar\":\n",
    "            pass\n",
    "        \n",
    "        case _:\n",
    "            raise ValueError(\"Borda Invalida\")\n",
    "    \n",
    "    \n",
    "    \n",
    "    imagem_processada = None\n",
    "    return imagem_processada"
   ]
  }
 ],
 "metadata": {
  "kernelspec": {
   "display_name": ".venv",
   "language": "python",
   "name": "python3"
  },
  "language_info": {
   "codemirror_mode": {
    "name": "ipython",
    "version": 3
   },
   "file_extension": ".py",
   "mimetype": "text/x-python",
   "name": "python",
   "nbconvert_exporter": "python",
   "pygments_lexer": "ipython3",
   "version": "3.11.4"
  }
 },
 "nbformat": 4,
 "nbformat_minor": 2
}
