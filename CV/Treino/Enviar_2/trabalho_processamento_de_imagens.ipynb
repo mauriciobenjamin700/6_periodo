{
 "cells": [
  {
   "cell_type": "markdown",
   "metadata": {},
   "source": [
    "# Atividades"
   ]
  },
  {
   "cell_type": "markdown",
   "metadata": {},
   "source": [
    "1) Leia uma imagem colorida, transforme a mesma em níveis de cinza e salve o resultado em disco. "
   ]
  },
  {
   "cell_type": "code",
   "execution_count": 20,
   "metadata": {},
   "outputs": [],
   "source": [
    "\"\"\"\n",
    "Funções genéricas que irão ajudar a corrigir bugs em quase todas as questões\n",
    "\"\"\"\n",
    "\n",
    "import os\n",
    "\n",
    "def preper_dir(file,output):\n",
    "    \"\"\"\n",
    "    Recebe um arquivo \"file\" e um diretório \"output\" para saida como parâmetro\n",
    "    retorna o caminho para salvar o arquivo no diretório\n",
    "\n",
    "    \"\"\"\n",
    "    \n",
    "    if not os.path.exists(output):\n",
    "        os.makedirs(output)\n",
    "\n",
    "    return os.path.sep.join((output,file)) \n",
    "\n",
    "def valid_img(imagem):\n",
    "    \"\"\"\n",
    "    Verificando se a imagem tem quatro canais (RGBA)\n",
    "    Imagens com a extenção .jpg não tem,\n",
    "    Imagens com a extenção .png tem\n",
    "    \n",
    "    caso tenha, remove o canal A e retorna a imagem RGB\n",
    "    \"\"\"\n",
    "    \n",
    "    if imagem.shape[2] == 4:    \n",
    "    # Extraimos apenas os canais RGB (ignorando o canal Alpha)\n",
    "        imagem = imagem[:, :, :3]\n",
    "        \n",
    "    return imagem"
   ]
  },
  {
   "cell_type": "code",
   "execution_count": null,
   "metadata": {},
   "outputs": [],
   "source": [
    "from skimage.io import imread, imsave\n",
    "from skimage.color import rgb2gray\n",
    "from skimage import img_as_ubyte\n",
    "\n",
    "file = \"python-logo.png\"\n",
    "output = 'Q1'\n",
    "\n",
    "output_path = preper_dir(file, output)\n",
    "\n",
    "imagem = imread(file)\n",
    "\n",
    "imagem = valid_img(imagem)\n",
    "\n",
    "imagem_cinza = rgb2gray(imagem)\n",
    "\n",
    "# Convertendoo para tipo de imagem unsigned byte (0-255) antes de salvar (se não fizer da erro)\n",
    "imsave(output_path, img_as_ubyte(imagem_cinza))  "
   ]
  },
  {
   "cell_type": "markdown",
   "metadata": {},
   "source": [
    "2) Leia uma imagem colorida, transforme a mesma em níveis de cinza. Após isso, atribua o valor zero a todos os pixels cujo vizinho à direita tenha o mesmo valor de intensidade. Salve o resultado em disco."
   ]
  },
  {
   "cell_type": "code",
   "execution_count": 9,
   "metadata": {
    "collapsed": true,
    "jupyter": {
     "outputs_hidden": true
    }
   },
   "outputs": [],
   "source": [
    "from skimage.io import imread, imsave\n",
    "from skimage.color import rgb2gray\n",
    "from skimage import img_as_ubyte\n",
    "\n",
    "path = \"python-logo.png\"\n",
    "\n",
    "output = \"Q2\"\n",
    "\n",
    "imagem = imread(path)\n",
    "\n",
    "output_path = preper_dir(path, output)\n",
    "\n",
    "imagem = valid_img(imagem)\n",
    "\n",
    "imagem_cinza = rgb2gray(imagem)\n",
    "\n",
    "linha, coluna = imagem_cinza.shape\n",
    "\n",
    "for l in range(0,linha):\n",
    "    # como vamos comparar o elemento atual com o da direita, não devemos ir até o final com o elemento atual e sim com o proximo elemento\n",
    "    for c in range(0,coluna-1):\n",
    "        if imagem_cinza[l][c] == imagem_cinza[l][c+1]:\n",
    "            imagem_cinza[l][c] = 0\n",
    "            \n",
    "    \n",
    "# Convertendoo para tipo de imagem unsigned byte (0-255) antes de salvar (se não fizer da erro)\n",
    "imsave(output_path, img_as_ubyte(imagem_cinza))  "
   ]
  },
  {
   "cell_type": "markdown",
   "metadata": {},
   "source": [
    "3) Leia uma imagem colorida, calcule as componentes no modelo de cores RGB. Calcule a maior e menor intensidade dos pixels em cada componente."
   ]
  },
  {
   "cell_type": "code",
   "execution_count": 4,
   "metadata": {},
   "outputs": [
    {
     "name": "stdout",
     "output_type": "stream",
     "text": [
      "\n",
      "Os maiores pixels RGB são (255, 255, 255)\n",
      "Os menores pixels RGB são (0, 0, 0)\n"
     ]
    }
   ],
   "source": [
    "from skimage.io import imread\n",
    "import numpy as np\n",
    "\n",
    "path = \"python-logo.png\"\n",
    "\n",
    "img = imread(path)\n",
    "\n",
    "img = valid_img(img)\n",
    "\n",
    "largura, altura, rgb = img.shape\n",
    "\n",
    "r = img[:,:,0]\n",
    "g = img[:,:,1]\n",
    "b = img[:,:,2]\n",
    "\n",
    "maior = [np.max(r),np.max(g),np.max(b)]\n",
    "menor = [np.min(r),np.min(g),np.min(b)]\n",
    "\n",
    "print(f\"\\nOs maiores pixels RGB são {maior[0], maior[1], maior[2]}\")\n",
    "print(f\"Os menores pixels RGB são {menor[0], menor[1], menor[2]}\")\n"
   ]
  },
  {
   "cell_type": "markdown",
   "metadata": {},
   "source": [
    "4) Leia uma imagem colorida, calcule as componentes no modelo de cores RGB.  Atribua o valor 255 a todos os pixels com intensidade maior que 150, faça isso em cada componente. Após isso, junte as componentes para formar uma imagem colorida novamente e salve o resultado."
   ]
  },
  {
   "cell_type": "code",
   "execution_count": 14,
   "metadata": {},
   "outputs": [],
   "source": [
    "from skimage.io import imread,imsave\n",
    "from skimage import img_as_ubyte\n",
    "\n",
    "path = \"python-logo.png\"\n",
    "output = \"Q4\"\n",
    "\n",
    "output_path = preper_dir(path, output)\n",
    "\n",
    "img = imread(path)\n",
    "img = valid_img(img)\n",
    "\n",
    "linha, coluna = img.shape[:2]\n",
    "\n",
    "limiar = 150\n",
    "\n",
    "for l in range(0,linha,1):\n",
    "    for c in range(0,coluna,1):\n",
    "        \n",
    "        if  img[l][c][0] > limiar:\n",
    "            img[l][c][0] = 255\n",
    "\n",
    "        if  img[l][c][1] > limiar:\n",
    "            img[l][c][1] = 255\n",
    "        \n",
    "        if  img[l][c][2]> limiar:\n",
    "            img[l][c][2] = 255\n",
    "            \n",
    "imsave(output_path, img_as_ubyte(img))"
   ]
  },
  {
   "cell_type": "markdown",
   "metadata": {},
   "source": [
    "5) Aplique ruído em uma imagem utilizando a função \"skimage.util.random_noise\" com os seguites parâmentros: ‘s&p’,‘gaussian’ e ‘speckle’. Cada um desses parâmetros irá gerar uma imagem com ruído. Após isso, aplique funções disponíveis em 'skimage.filters' para recuperar as imagens."
   ]
  },
  {
   "cell_type": "code",
   "execution_count": 5,
   "metadata": {
    "collapsed": true,
    "jupyter": {
     "outputs_hidden": true
    }
   },
   "outputs": [],
   "source": [
    "from skimage.io import imread, imsave\n",
    "from skimage.util import random_noise\n",
    "from skimage.filters import median, gaussian\n",
    "from skimage import img_as_ubyte\n",
    "\n",
    "path = \"logo.png\"\n",
    "\n",
    "output = \"Q5\"\n",
    "\n",
    "if not os.path.exists(output):\n",
    "    os.makedirs(output)\n",
    "\n",
    "\n",
    "img = imread(path)\n",
    "\n",
    "imagem_sp = random_noise(img, mode='s&p')\n",
    "\n",
    "imagem_gaussian = random_noise(img, mode='gaussian')\n",
    "\n",
    "imagem_speckle = random_noise(img, mode='speckle')\n",
    "\n",
    "# Filtro da mediana parece ser o melhor para ruído S&P\n",
    "imagem_recuperada_sp = median(imagem_sp)  \n",
    "\n",
    "imagem_recuperada_gaussian = gaussian(imagem_gaussian)\n",
    "\n",
    "# Filtro Gaussiano parece ser o melhor para ruído Speckle\n",
    "imagem_recuperada_speckle = gaussian(imagem_speckle, sigma=1)  \n",
    "\n",
    "items = [(\"imagem_ruidosa_sp.png\", imagem_sp),(\"imagem_ruidosa_gaussian.png\", imagem_gaussian), (\"imagem_ruidosa_speckle.png\", imagem_speckle), (\"imagem_recuperada_sp.png\", imagem_recuperada_sp), (\"imagem_recuperada_gaussian.png\", imagem_recuperada_gaussian), (\"imagem_recuperada_speckle.png\", imagem_recuperada_speckle)]\n",
    "\n",
    "for i in items:\n",
    "   output_path = os.path.sep.join((output,i[0]))\n",
    "   imsave(output_path,img_as_ubyte(i[1]))\n"
   ]
  },
  {
   "cell_type": "markdown",
   "metadata": {},
   "source": [
    "6) Aplique pelo menos 3 métodos diferentes para binarizar uma imagem ('skimage.filters')."
   ]
  },
  {
   "cell_type": "code",
   "execution_count": 7,
   "metadata": {
    "collapsed": true,
    "jupyter": {
     "outputs_hidden": true
    }
   },
   "outputs": [],
   "source": [
    "from skimage.io import imread, imsave\n",
    "from skimage.filters import threshold_otsu, threshold_li, threshold_local, threshold_isodata, threshold_minimum, threshold_yen\n",
    "from skimage.color import rgb2gray\n",
    "import os\n",
    "from skimage import img_as_ubyte\n",
    "\n",
    "path = \"picos.jpg\"\n",
    "output = \"binarizadas\"\n",
    "\n",
    "if not os.path.exists(output):\n",
    "    os.makedirs(output)\n",
    "\n",
    "img = imread(path)\n",
    "img_gray = rgb2gray(img)\n",
    "\n",
    "# Método de Otsu\n",
    "thresh_otsu = threshold_otsu(img_gray)\n",
    "img_otsu = img_gray > thresh_otsu\n",
    "\n",
    "# Método de Li\n",
    "thresh_li = threshold_li(img_gray)\n",
    "img_li = img_gray > thresh_li\n",
    "\n",
    "# Método de Isodata\n",
    "thresh_isodata = threshold_isodata(img_gray)\n",
    "img_isodata = img_gray > thresh_isodata\n",
    "\n",
    "# Método Mínimo\n",
    "thresh_minimum = threshold_minimum(img_gray)\n",
    "img_minimum = img_gray > thresh_minimum\n",
    "\n",
    "# Método de Yen\n",
    "thresh_yen = threshold_yen(img_gray)\n",
    "img_yen = img_gray > thresh_yen\n",
    "\n",
    "# Salvar as imagens binarizadas\n",
    "imsave(os.path.join(output, \"otsu.png\"), img_as_ubyte(img_otsu))\n",
    "imsave(os.path.join(output, \"li.png\"), img_as_ubyte(img_li))\n",
    "imsave(os.path.join(output, \"isodata.png\"), img_as_ubyte(img_isodata))\n",
    "imsave(os.path.join(output, \"minimum.png\"), img_as_ubyte(img_minimum))\n",
    "imsave(os.path.join(output, \"yen.png\"), img_as_ubyte(img_yen))\n"
   ]
  },
  {
   "cell_type": "markdown",
   "metadata": {},
   "source": [
    "7) Aplique pelo menos 3 métodos diferentes ('skimage.filters') para calcular as bordas de uma imagem utilizando como entrada o resultado da questão anterior."
   ]
  },
  {
   "cell_type": "code",
   "execution_count": 21,
   "metadata": {},
   "outputs": [],
   "source": [
    "from skimage.io import imread, imsave\n",
    "from skimage.filters import sobel, prewitt, roberts\n",
    "import os\n",
    "\n",
    "output = \"bordas\"\n",
    "\n",
    "if not os.path.exists(output):\n",
    "    os.makedirs(output)\n",
    "\n",
    "# resultado da questão anterior está na pasta \"binarizadas\"\n",
    "img_otsu = imread(os.path.join(\"binarizadas\", \"otsu.png\"))\n",
    "\n",
    "borda_sobel = sobel(img_otsu)\n",
    "borda_prewitt = prewitt(img_otsu)\n",
    "borda_roberts = roberts(img_otsu)\n",
    "\n",
    "\"\"\"\n",
    "Converter as imagens de borda para valores de 0 (preto) e 255 (branco)\n",
    "Detalhe, se não fizer da erro na hora de salvar\n",
    "\"\"\"\n",
    "borda_sobel = (borda_sobel * 255).astype('uint8')\n",
    "borda_prewitt = (borda_prewitt * 255).astype('uint8')\n",
    "borda_roberts = (borda_roberts * 255).astype('uint8')\n",
    "\n",
    "\n",
    "imsave(os.path.join(output, \"borda_sobel.png\"), borda_sobel)\n",
    "imsave(os.path.join(output, \"borda_prewitt.png\"), borda_prewitt)\n",
    "imsave(os.path.join(output, \"borda_roberts.png\"), borda_roberts)\n"
   ]
  },
  {
   "cell_type": "markdown",
   "metadata": {},
   "source": [
    "8) Recorte uma imagem da seguinte forma:\n",
    "- O corte será feito no canal de cor com a maior média de pixels.\n",
    "- O centro do corte deve ser o pixel com o maior desvio padrão em uma janela 3x3.\n",
    "- O tamanho do recorte será 1/4 do tamanho da imagem. Ex: Imagem 100 x 80 -> Recorte 25 x 20\n",
    "- Cuidado com as bordas! Caso uma janela fique fora da imagem, o centro do recorte deverá ser alterado."
   ]
  },
  {
   "cell_type": "code",
   "execution_count": 23,
   "metadata": {},
   "outputs": [
    {
     "name": "stderr",
     "output_type": "stream",
     "text": [
      "/home/mauriciorocha70/Documentos/GitHub/6_periodo/CV/Treino/Enviar_2/.venv/lib/python3.9/site-packages/numpy/core/_methods.py:206: RuntimeWarning: Degrees of freedom <= 0 for slice\n",
      "  ret = _var(a, axis=axis, dtype=dtype, out=out, ddof=ddof,\n",
      "/home/mauriciorocha70/Documentos/GitHub/6_periodo/CV/Treino/Enviar_2/.venv/lib/python3.9/site-packages/numpy/core/_methods.py:163: RuntimeWarning: invalid value encountered in divide\n",
      "  arrmean = um.true_divide(arrmean, div, out=arrmean,\n",
      "/home/mauriciorocha70/Documentos/GitHub/6_periodo/CV/Treino/Enviar_2/.venv/lib/python3.9/site-packages/numpy/core/_methods.py:198: RuntimeWarning: invalid value encountered in scalar divide\n",
      "  ret = ret.dtype.type(ret / rcount)\n"
     ]
    }
   ],
   "source": [
    "from skimage.io import imread,imsave\n",
    "import numpy as np\n",
    "\n",
    "path = \"picos.jpg\"\n",
    "output = \"recorte\"\n",
    "\n",
    "output_path = preper_dir(path, output)\n",
    "\n",
    "img = imread(path)\n",
    "\n",
    "img = valid_img(img)\n",
    "\n",
    "largura, altura= img.shape[:2]\n",
    "\n",
    "media = [np.mean(img[:,:,0]), np.mean(img[:,:,1]), np.mean(img[:,:,2])]\n",
    "maior = max(media)\n",
    "\n",
    "idx_maior = media.index(maior)\n",
    "\n",
    "work_channel = img[:,:,idx_maior] \n",
    "#etapa 1 concluida com sucesso\n",
    "\n",
    "\n",
    "largura_recorte = largura//4 \n",
    "altura_recorte = altura//4\n",
    "#etapa 3 conclida com sucesso\n",
    "\n",
    "\n",
    "melhor_corte = None\n",
    "melhor_desvio_padrao = -1\n",
    "\n",
    "# Percorra a imagem com uma janela deslizante 3x3\n",
    "for y in range(1, altura - 1):\n",
    "    for x in range(1, largura - 1):\n",
    "        \n",
    "        # Calcule o desvio padrão na janela 3x3\n",
    "        janela = work_channel[y - 1:y + 2, x - 1:x + 2]\n",
    "        desvio_padrao = np.std(janela)\n",
    "\n",
    "        if desvio_padrao > melhor_desvio_padrao:\n",
    "            # Encontrou um novo ponto com desvio padrão maior\n",
    "            melhor_desvio_padrao = desvio_padrao\n",
    "            centro_do_corte = (x, y)\n",
    "\n",
    "            # Garanta que o centro do recorte não esteja muito próximo das bordas\n",
    "            if centro_do_corte[0] < largura_recorte // 2:\n",
    "                centro_do_corte = (largura_recorte // 2, centro_do_corte[1])\n",
    "                \n",
    "            if centro_do_corte[0] > largura - largura_recorte // 2:\n",
    "                centro_do_corte = (largura - largura_recorte // 2, centro_do_corte[1])\n",
    "                \n",
    "            if centro_do_corte[1] < altura_recorte // 2:\n",
    "                centro_do_corte = (centro_do_corte[0], altura_recorte // 2)\n",
    "                \n",
    "            if centro_do_corte[1] > altura - altura_recorte // 2:\n",
    "                centro_do_corte = (centro_do_corte[0], altura - altura_recorte // 2)\n",
    "\n",
    "# Calcule os limites do corte\n",
    "left = centro_do_corte[0] - largura_recorte // 2\n",
    "right = centro_do_corte[0] + largura_recorte // 2\n",
    "\n",
    "top = centro_do_corte[1] - altura_recorte // 2\n",
    "bottom = centro_do_corte[1] + altura_recorte // 2\n",
    "\n",
    "# Recorte a imagem\n",
    "recorte = work_channel[top:bottom, left:right]\n",
    "\n",
    "# Salve o recorte\n",
    "imsave(output_path, recorte)\n"
   ]
  }
 ],
 "metadata": {
  "anaconda-cloud": {},
  "kernelspec": {
   "display_name": "Python 3",
   "language": "python",
   "name": "python3"
  },
  "language_info": {
   "codemirror_mode": {
    "name": "ipython",
    "version": 3
   },
   "file_extension": ".py",
   "mimetype": "text/x-python",
   "name": "python",
   "nbconvert_exporter": "python",
   "pygments_lexer": "ipython3",
   "version": "3.9.16"
  }
 },
 "nbformat": 4,
 "nbformat_minor": 4
}
