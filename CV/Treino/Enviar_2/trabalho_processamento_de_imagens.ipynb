{
 "cells": [
  {
   "cell_type": "markdown",
   "metadata": {},
   "source": [
    "# Atividades"
   ]
  },
  {
   "cell_type": "markdown",
   "metadata": {},
   "source": [
    "1) Leia uma imagem colorida, transforme a mesma em níveis de cinza e salve o resultado em disco. "
   ]
  },
  {
   "cell_type": "code",
   "execution_count": 2,
   "metadata": {},
   "outputs": [],
   "source": [
    "from skimage.io import imread, imsave\n",
    "from skimage.color import rgb2gray\n",
    "from skimage import img_as_ubyte\n",
    "import os\n",
    "\n",
    "path = \"python-logo.png\"\n",
    "output = 'Q1'\n",
    "\n",
    "if not os.path.exists(output):\n",
    "    os.makedirs(output)\n",
    "\n",
    "output_path = os.path.sep.join((output,path)) \n",
    "\n",
    "\n",
    "imagem = imread(path)\n",
    "\n",
    "\"\"\"\n",
    "Verificando se a imagem tem quatro canais (RGBA)\n",
    "Imagens com a extenção .jpg não tem,\n",
    "Imagens com a extenção .png tem\n",
    "\"\"\"\n",
    "if imagem.shape[2] == 4:    \n",
    "    # Extraimos apenas os canais RGB (ignorando o canal Alpha)\n",
    "    imagem = imagem[:, :, :3]\n",
    "\n",
    "imagem_cinza = rgb2gray(imagem)\n",
    "\n",
    "# Convertendoo para tipo de imagem unsigned byte (0-255) antes de salvar (se não fizer da erro)\n",
    "imsave(output_path, img_as_ubyte(imagem_cinza))  "
   ]
  },
  {
   "cell_type": "markdown",
   "metadata": {},
   "source": [
    "2) Leia uma imagem colorida, transforme a mesma em níveis de cinza. Após isso, atribua o valor zero a todos os pixels cujo vizinho à direita tenha o mesmo valor de intensidade. Salve o resultado em disco."
   ]
  },
  {
   "cell_type": "code",
   "execution_count": 1,
   "metadata": {
    "collapsed": true,
    "jupyter": {
     "outputs_hidden": true
    }
   },
   "outputs": [],
   "source": [
    "from skimage.io import imread, imsave\n",
    "from skimage.color import rgb2gray\n",
    "from skimage import img_as_ubyte\n",
    "import os\n",
    "\n",
    "path = \"python-logo.png\"\n",
    "\n",
    "output = \"Q2\"\n",
    "\n",
    "imagem = imread(path)\n",
    "\n",
    "if not os.path.exists(output):\n",
    "    os.makedirs(output)\n",
    "\n",
    "output_path = os.path.sep.join((output,path)) \n",
    "\n",
    "\"\"\"\n",
    "Verificando se a imagem tem quatro canais (RGBA)\n",
    "Imagens com a extenção .jpg não tem,\n",
    "Imagens com a extenção .png tem\n",
    "\"\"\"\n",
    "if imagem.shape[2] == 4:    \n",
    "    # Extraimos apenas os canais RGB (ignorando o canal Alpha)\n",
    "    imagem = imagem[:, :, :3]\n",
    "\n",
    "imagem_cinza = rgb2gray(imagem)\n",
    "\n",
    "linha, coluna = imagem_cinza.shape\n",
    "\n",
    "for l in range(0,linha):\n",
    "    # como vamos comparar o elemento atual com o da direita, não devemos ir até o final com o elemento atual e sim com o proximo elemento\n",
    "    for c in range(0,coluna-1):\n",
    "        if imagem_cinza[l][c] == imagem_cinza[l][c+1]:\n",
    "            imagem_cinza[l][c] = 0\n",
    "            \n",
    "    \n",
    "            \n",
    "\n",
    "# Convertendoo para tipo de imagem unsigned byte (0-255) antes de salvar (se não fizer da erro)\n",
    "imsave(output_path, img_as_ubyte(imagem_cinza))  "
   ]
  },
  {
   "cell_type": "markdown",
   "metadata": {},
   "source": [
    "3) Leia uma imagem colorida, calcule as componentes no modelo de cores RGB. Calcule a maior e menor intensidade dos pixels em cada componente."
   ]
  },
  {
   "cell_type": "code",
   "execution_count": 4,
   "metadata": {},
   "outputs": [
    {
     "name": "stdout",
     "output_type": "stream",
     "text": [
      "\n",
      "Os maiores pixels RGB são (255, 255, 255)\n",
      "Os menores pixels RGB são (0, 0, 0)\n"
     ]
    }
   ],
   "source": [
    "from skimage.io import imread\n",
    "import numpy as np\n",
    "\n",
    "path = \"python-logo.png\"\n",
    "\n",
    "img = imread(path)\n",
    "\n",
    "largura, altura, rgb = img.shape\n",
    "\n",
    "r = img[:,:,0]\n",
    "g = img[:,:,1]\n",
    "b = img[:,:,2]\n",
    "\n",
    "maior = [np.max(r),np.max(g),np.max(b)]\n",
    "menor = [np.min(r),np.min(g),np.min(b)]\n",
    "\n",
    "\n",
    "\n",
    "print(f\"\\nOs maiores pixels RGB são {maior[0], maior[1], maior[2]}\")\n",
    "print(f\"Os menores pixels RGB são {menor[0], menor[1], menor[2]}\")\n"
   ]
  },
  {
   "cell_type": "markdown",
   "metadata": {},
   "source": [
    "4) Leia uma imagem colorida, calcule as componentes no modelo de cores RGB.  Atribua o valor 255 a todos os pixels com intensidade maior que 150, faça isso em cada componente. Após isso, junte as componentes para formar uma imagem colorida novamente e salve o resultado."
   ]
  },
  {
   "cell_type": "code",
   "execution_count": 9,
   "metadata": {},
   "outputs": [],
   "source": [
    "from skimage.io import imread,imsave\n",
    "from skimage.color import gray2rgb\n",
    "from skimage import img_as_ubyte\n",
    "\n",
    "import os\n",
    "\n",
    "path = \"python-logo.png\"\n",
    "output = \"Q4\"\n",
    "\n",
    "if not os.path.exists(output):\n",
    "    os.makedirs(output)\n",
    "\n",
    "output_path = os.path.sep.join((output,path)) \n",
    "\n",
    "\n",
    "\n",
    "img = imread(path,as_gray=True)\n",
    "\n",
    "largura, altura = img.shape\n",
    "\n",
    "limiar = 150\n",
    "\n",
    "for l in range(0,largura,1):\n",
    "    for c in range(0,altura,1):\n",
    "        if img[l][c] > limiar:\n",
    "            img[l][c] = 255\n",
    "            \n",
    "rgb = gray2rgb(img)\n",
    "\n",
    "imsave(output_path, img_as_ubyte(rgb))\n",
    "\n"
   ]
  },
  {
   "cell_type": "markdown",
   "metadata": {},
   "source": [
    "5) Aplique ruído em uma imagem utilizando a função \"skimage.util.random_noise\" com os seguites parâmentros: ‘s&p’,‘gaussian’ e ‘speckle’. Cada um desses parâmetros irá gerar uma imagem com ruído. Após isso, aplique funções disponíveis em 'skimage.filters' para recuperar as imagens."
   ]
  },
  {
   "cell_type": "code",
   "execution_count": 16,
   "metadata": {
    "collapsed": true,
    "jupyter": {
     "outputs_hidden": true
    }
   },
   "outputs": [
    {
     "ename": "ValueError",
     "evalue": "Impulse response must be a callable.",
     "output_type": "error",
     "traceback": [
      "\u001b[0;31m---------------------------------------------------------------------------\u001b[0m",
      "\u001b[0;31mValueError\u001b[0m                                Traceback (most recent call last)",
      "\u001b[1;32m/home/mauriciorocha70/Documents/GitHub/6_periodo/CV/Treino/Enviar_2/trabalho_processamento_de_imagens.ipynb Cell 11\u001b[0m line \u001b[0;36m3\n\u001b[1;32m     <a href='vscode-notebook-cell:/home/mauriciorocha70/Documents/GitHub/6_periodo/CV/Treino/Enviar_2/trabalho_processamento_de_imagens.ipynb#X13sZmlsZQ%3D%3D?line=27'>28</a>\u001b[0m \u001b[39m#detalhe, o filtro de wiener precisa de uma imagem em escala de cinza\u001b[39;00m\n\u001b[1;32m     <a href='vscode-notebook-cell:/home/mauriciorocha70/Documents/GitHub/6_periodo/CV/Treino/Enviar_2/trabalho_processamento_de_imagens.ipynb#X13sZmlsZQ%3D%3D?line=28'>29</a>\u001b[0m imagem_gaussian \u001b[39m=\u001b[39m rgb2gray(imagem_gaussian)\n\u001b[0;32m---> <a href='vscode-notebook-cell:/home/mauriciorocha70/Documents/GitHub/6_periodo/CV/Treino/Enviar_2/trabalho_processamento_de_imagens.ipynb#X13sZmlsZQ%3D%3D?line=30'>31</a>\u001b[0m imagem_recuperada_gaussian \u001b[39m=\u001b[39m wiener(imagem_gaussian)  \u001b[39m# Filtro de Wiener para ruído Gaussiano\u001b[39;00m\n\u001b[1;32m     <a href='vscode-notebook-cell:/home/mauriciorocha70/Documents/GitHub/6_periodo/CV/Treino/Enviar_2/trabalho_processamento_de_imagens.ipynb#X13sZmlsZQ%3D%3D?line=32'>33</a>\u001b[0m imagem_recuperada_speckle \u001b[39m=\u001b[39m gaussian(imagem_speckle, sigma\u001b[39m=\u001b[39m\u001b[39m1\u001b[39m)  \u001b[39m# Filtro Gaussiano para ruído Speckle\u001b[39;00m\n\u001b[1;32m     <a href='vscode-notebook-cell:/home/mauriciorocha70/Documents/GitHub/6_periodo/CV/Treino/Enviar_2/trabalho_processamento_de_imagens.ipynb#X13sZmlsZQ%3D%3D?line=34'>35</a>\u001b[0m items \u001b[39m=\u001b[39m [(\u001b[39m\"\u001b[39m\u001b[39mimagem_ruidosa_sp.png\u001b[39m\u001b[39m\"\u001b[39m, imagem_sp),(\u001b[39m\"\u001b[39m\u001b[39mimagem_ruidosa_gaussian.png\u001b[39m\u001b[39m\"\u001b[39m, imagem_gaussian), (\u001b[39m\"\u001b[39m\u001b[39mimagem_ruidosa_speckle.png\u001b[39m\u001b[39m\"\u001b[39m, imagem_speckle), (\u001b[39m\"\u001b[39m\u001b[39mimagem_recuperada_sp.png\u001b[39m\u001b[39m\"\u001b[39m, imagem_recuperada_sp), (\u001b[39m\"\u001b[39m\u001b[39mimagem_recuperada_gaussian.png\u001b[39m\u001b[39m\"\u001b[39m, imagem_recuperada_gaussian), (\u001b[39m\"\u001b[39m\u001b[39mimagem_recuperada_speckle.png\u001b[39m\u001b[39m\"\u001b[39m, imagem_recuperada_speckle)]\n",
      "File \u001b[0;32m~/Documents/GitHub/6_periodo/CV/Treino/Enviar_2/.venv/lib/python3.10/site-packages/skimage/filters/lpi_filter.py:251\u001b[0m, in \u001b[0;36mwiener\u001b[0;34m(data, impulse_response, filter_params, K, predefined_filter)\u001b[0m\n\u001b[1;32m    248\u001b[0m     check_nD(K, \u001b[39m2\u001b[39m, \u001b[39m'\u001b[39m\u001b[39mK\u001b[39m\u001b[39m'\u001b[39m)\n\u001b[1;32m    250\u001b[0m \u001b[39mif\u001b[39;00m predefined_filter \u001b[39mis\u001b[39;00m \u001b[39mNone\u001b[39;00m:\n\u001b[0;32m--> 251\u001b[0m     filt \u001b[39m=\u001b[39m LPIFilter2D(impulse_response, \u001b[39m*\u001b[39;49m\u001b[39m*\u001b[39;49mfilter_params)\n\u001b[1;32m    252\u001b[0m \u001b[39melse\u001b[39;00m:\n\u001b[1;32m    253\u001b[0m     filt \u001b[39m=\u001b[39m predefined_filter\n",
      "File \u001b[0;32m~/Documents/GitHub/6_periodo/CV/Treino/Enviar_2/.venv/lib/python3.10/site-packages/skimage/filters/lpi_filter.py:77\u001b[0m, in \u001b[0;36mLPIFilter2D.__init__\u001b[0;34m(self, impulse_response, **filter_params)\u001b[0m\n\u001b[1;32m     47\u001b[0m \u001b[39m\u001b[39m\u001b[39m\"\"\"\u001b[39;00m\n\u001b[1;32m     48\u001b[0m \u001b[39mParameters\u001b[39;00m\n\u001b[1;32m     49\u001b[0m \u001b[39m----------\u001b[39;00m\n\u001b[0;32m   (...)\u001b[0m\n\u001b[1;32m     74\u001b[0m \n\u001b[1;32m     75\u001b[0m \u001b[39m\"\"\"\u001b[39;00m\n\u001b[1;32m     76\u001b[0m \u001b[39mif\u001b[39;00m \u001b[39mnot\u001b[39;00m \u001b[39mcallable\u001b[39m(impulse_response):\n\u001b[0;32m---> 77\u001b[0m     \u001b[39mraise\u001b[39;00m \u001b[39mValueError\u001b[39;00m(\u001b[39m\"\u001b[39m\u001b[39mImpulse response must be a callable.\u001b[39m\u001b[39m\"\u001b[39m)\n\u001b[1;32m     79\u001b[0m \u001b[39mself\u001b[39m\u001b[39m.\u001b[39mimpulse_response \u001b[39m=\u001b[39m impulse_response\n\u001b[1;32m     80\u001b[0m \u001b[39mself\u001b[39m\u001b[39m.\u001b[39mfilter_params \u001b[39m=\u001b[39m filter_params\n",
      "\u001b[0;31mValueError\u001b[0m: Impulse response must be a callable."
     ]
    }
   ],
   "source": [
    "from skimage.io import imread, imsave\n",
    "from skimage.util import random_noise\n",
    "from skimage.filters import median, gaussian, wiener\n",
    "from skimage.color import rgb2gray, gray2rgb\n",
    "from skimage import img_as_ubyte\n",
    "import os\n",
    "\n",
    "path = \"logo.png\"\n",
    "\n",
    "output = \"Q5\"\n",
    "\n",
    "if not os.path.exists(output):\n",
    "    os.makedirs(output)\n",
    "\n",
    "\n",
    "\n",
    "img = imread(path)\n",
    "\n",
    "imagem_sp = random_noise(img, mode='s&p')\n",
    "\n",
    "imagem_gaussian = random_noise(img, mode='gaussian')\n",
    "\n",
    "imagem_speckle = random_noise(img, mode='speckle')\n",
    "\n",
    "# Recuperar imagens usando diferentes filtros\n",
    "imagem_recuperada_sp = median(imagem_sp)  # Filtro da mediana para ruído S&P\n",
    "\n",
    "#detalhe, o filtro de wiener precisa de uma imagem em escala de cinza\n",
    "imagem_gaussian = rgb2gray(imagem_gaussian)\n",
    "\n",
    "imagem_recuperada_gaussian = wiener(imagem_gaussian)  # Filtro de Wiener para ruído Gaussiano\n",
    "\n",
    "imagem_recuperada_speckle = gaussian(imagem_speckle, sigma=1)  # Filtro Gaussiano para ruído Speckle\n",
    "\n",
    "items = [(\"imagem_ruidosa_sp.png\", imagem_sp),(\"imagem_ruidosa_gaussian.png\", imagem_gaussian), (\"imagem_ruidosa_speckle.png\", imagem_speckle), (\"imagem_recuperada_sp.png\", imagem_recuperada_sp), (\"imagem_recuperada_gaussian.png\", imagem_recuperada_gaussian), (\"imagem_recuperada_speckle.png\", imagem_recuperada_speckle)]\n",
    "\n",
    "for i in items:\n",
    "   output_path = os.path.sep.join((output,i[0]))\n",
    "   imsave(output_path,img_as_ubyte(i[1]))\n"
   ]
  },
  {
   "cell_type": "markdown",
   "metadata": {},
   "source": [
    "6) Aplique pelo menos 3 métodos diferentes para binarizar uma imagem ('skimage.filters')."
   ]
  },
  {
   "cell_type": "code",
   "execution_count": 20,
   "metadata": {
    "collapsed": true,
    "jupyter": {
     "outputs_hidden": true
    }
   },
   "outputs": [
    {
     "name": "stderr",
     "output_type": "stream",
     "text": [
      "/tmp/ipykernel_3649/848972486.py:41: UserWarning: binarizadas/otsu.png is a boolean image: setting True to 255 and False to 0. To silence this warning, please convert the image using img_as_ubyte.\n",
      "  imsave(os.path.join(output, \"otsu.png\"), img_otsu)\n",
      "/tmp/ipykernel_3649/848972486.py:42: UserWarning: binarizadas/li.png is a boolean image: setting True to 255 and False to 0. To silence this warning, please convert the image using img_as_ubyte.\n",
      "  imsave(os.path.join(output, \"li.png\"), img_li)\n",
      "/tmp/ipykernel_3649/848972486.py:44: UserWarning: binarizadas/isodata.png is a boolean image: setting True to 255 and False to 0. To silence this warning, please convert the image using img_as_ubyte.\n",
      "  imsave(os.path.join(output, \"isodata.png\"), img_isodata)\n",
      "/tmp/ipykernel_3649/848972486.py:45: UserWarning: binarizadas/minimum.png is a boolean image: setting True to 255 and False to 0. To silence this warning, please convert the image using img_as_ubyte.\n",
      "  imsave(os.path.join(output, \"minimum.png\"), img_minimum)\n",
      "/tmp/ipykernel_3649/848972486.py:46: UserWarning: binarizadas/yen.png is a boolean image: setting True to 255 and False to 0. To silence this warning, please convert the image using img_as_ubyte.\n",
      "  imsave(os.path.join(output, \"yen.png\"), img_yen)\n"
     ]
    }
   ],
   "source": [
    "from skimage.io import imread, imsave\n",
    "from skimage.filters import threshold_otsu, threshold_li, threshold_local, threshold_isodata, threshold_minimum, threshold_yen\n",
    "from skimage.color import rgb2gray\n",
    "import os\n",
    "import numpy as np\n",
    "\n",
    "path = \"picos.jpg\"\n",
    "output = \"binarizadas\"\n",
    "\n",
    "if not os.path.exists(output):\n",
    "    os.makedirs(output)\n",
    "\n",
    "img = imread(path)\n",
    "img_gray = rgb2gray(img)\n",
    "\n",
    "# Método de Otsu\n",
    "thresh_otsu = threshold_otsu(img_gray)\n",
    "img_otsu = img_gray > thresh_otsu\n",
    "\n",
    "# Método de Li\n",
    "thresh_li = threshold_li(img_gray)\n",
    "img_li = img_gray > thresh_li\n",
    "\n",
    "# Método Local (usando uma janela 25x25)\n",
    "img_local = threshold_local(img_gray, block_size=25, method=\"mean\")  # Alterado para \"mean\"\n",
    "img_local = (img_local * 255).astype(np.uint8)  # Convertido para uint8\n",
    "\n",
    "# Método de Isodata\n",
    "thresh_isodata = threshold_isodata(img_gray)\n",
    "img_isodata = img_gray > thresh_isodata\n",
    "\n",
    "# Método Mínimo\n",
    "thresh_minimum = threshold_minimum(img_gray)\n",
    "img_minimum = img_gray > thresh_minimum\n",
    "\n",
    "# Método de Yen\n",
    "thresh_yen = threshold_yen(img_gray)\n",
    "img_yen = img_gray > thresh_yen\n",
    "\n",
    "# Salvar as imagens binarizadas\n",
    "imsave(os.path.join(output, \"otsu.png\"), img_otsu)\n",
    "imsave(os.path.join(output, \"li.png\"), img_li)\n",
    "imsave(os.path.join(output, \"local.png\"), img_local)\n",
    "imsave(os.path.join(output, \"isodata.png\"), img_isodata)\n",
    "imsave(os.path.join(output, \"minimum.png\"), img_minimum)\n",
    "imsave(os.path.join(output, \"yen.png\"), img_yen)\n"
   ]
  },
  {
   "cell_type": "markdown",
   "metadata": {},
   "source": [
    "7) Aplique pelo menos 3 métodos diferentes ('skimage.filters') para calcular as bordas de uma imagem utilizando como entrada o resultado da questão anterior."
   ]
  },
  {
   "cell_type": "code",
   "execution_count": 22,
   "metadata": {},
   "outputs": [],
   "source": [
    "from skimage.io import imread, imsave\n",
    "from skimage.filters import sobel, prewitt, roberts\n",
    "import os\n",
    "\n",
    "output = \"bordas\"\n",
    "\n",
    "if not os.path.exists(output):\n",
    "    os.makedirs(output)\n",
    "\n",
    "# Suponha que você já tenha as imagens binarizadas de um diretório 'binarizadas'\n",
    "# Vamos carregar uma dessas imagens, por exemplo, a imagem binarizada do método de Otsu\n",
    "img_otsu = imread(os.path.join(\"binarizadas\", \"otsu.png\"))\n",
    "\n",
    "# Calcular as bordas\n",
    "borda_sobel = sobel(img_otsu)\n",
    "borda_prewitt = prewitt(img_otsu)\n",
    "borda_roberts = roberts(img_otsu)\n",
    "\n",
    "# Converter as imagens de borda para valores de 0 (preto) e 255 (branco)\n",
    "borda_sobel = (borda_sobel * 255).astype('uint8')\n",
    "borda_prewitt = (borda_prewitt * 255).astype('uint8')\n",
    "borda_roberts = (borda_roberts * 255).astype('uint8')\n",
    "\n",
    "# Salvar as imagens de borda\n",
    "imsave(os.path.join(output, \"borda_sobel.png\"), borda_sobel)\n",
    "imsave(os.path.join(output, \"borda_prewitt.png\"), borda_prewitt)\n",
    "imsave(os.path.join(output, \"borda_roberts.png\"), borda_roberts)\n"
   ]
  },
  {
   "cell_type": "markdown",
   "metadata": {},
   "source": [
    "8) Recorte uma imagem da seguinte forma:\n",
    "- O corte será feito no canal de cor com a maior média de pixels.\n",
    "- O centro do corte deve ser o pixel com o maior desvio padrão em uma janela 3x3.\n",
    "- O tamanho do recorte será 1/4 do tamanho da imagem. Ex: Imagem 100 x 80 -> Recorte 25 x 20\n",
    "- Cuidado com as bordas! Caso uma janela fique fora da imagem, o centro do recorte deverá ser alterado."
   ]
  },
  {
   "cell_type": "code",
   "execution_count": null,
   "metadata": {},
   "outputs": [],
   "source": []
  }
 ],
 "metadata": {
  "anaconda-cloud": {},
  "kernelspec": {
   "display_name": "Python 3",
   "language": "python",
   "name": "python3"
  },
  "language_info": {
   "codemirror_mode": {
    "name": "ipython",
    "version": 3
   },
   "file_extension": ".py",
   "mimetype": "text/x-python",
   "name": "python",
   "nbconvert_exporter": "python",
   "pygments_lexer": "ipython3",
   "version": "3.10.12"
  }
 },
 "nbformat": 4,
 "nbformat_minor": 4
}
