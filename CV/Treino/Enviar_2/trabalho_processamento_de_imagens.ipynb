{
 "cells": [
  {
   "cell_type": "markdown",
   "metadata": {},
   "source": [
    "# Atividades"
   ]
  },
  {
   "cell_type": "markdown",
   "metadata": {},
   "source": [
    "1) Leia uma imagem colorida, transforme a mesma em níveis de cinza e salve o resultado em disco. "
   ]
  },
  {
   "cell_type": "code",
   "execution_count": 12,
   "metadata": {},
   "outputs": [
    {
     "name": "stdout",
     "output_type": "stream",
     "text": [
      "(82, 290, 4)\n",
      "Imagem convertida para tons de cinza e salva com sucesso.\n"
     ]
    }
   ],
   "source": [
    "from skimage.io import imread, imsave\n",
    "from skimage.color import rgb2gray\n",
    "from skimage import img_as_ubyte\n",
    "\n",
    "path = \"python-logo.png\"\n",
    "output_path = \"cinza_\" + path\n",
    "\n",
    "imagem = imread(path)\n",
    "\n",
    "\"\"\"\n",
    "Verificando se a imagem tem quatro canais (RGBA)\n",
    "Imagens com a extenção .jpg não tem,\n",
    "Imagens com a extenção .png tem\n",
    "\"\"\"\n",
    "if imagem.shape[2] == 4:    \n",
    "    # Extraimos apenas os canais RGB (ignorando o canal Alpha)\n",
    "    imagem = imagem[:, :, :3]\n",
    "\n",
    "imagem_cinza = rgb2gray(imagem)\n",
    "\n",
    "# Convertendoo para tipo de imagem unsigned byte (0-255) antes de salvar (se não fizer da erro)\n",
    "imsave(output_path, img_as_ubyte(imagem_cinza))  "
   ]
  },
  {
   "cell_type": "markdown",
   "metadata": {},
   "source": [
    "2) Leia uma imagem colorida, transforme a mesma em níveis de cinza. Após isso, atribua o valor zero a todos os pixels cujo vizinho à direita tenha o mesmo valor de intensidade. Salve o resultado em disco."
   ]
  },
  {
   "cell_type": "code",
   "execution_count": 4,
   "metadata": {
    "collapsed": true,
    "jupyter": {
     "outputs_hidden": true
    }
   },
   "outputs": [],
   "source": [
    "from skimage.io import imread, imsave\n",
    "from skimage.color import rgb2gray\n",
    "from skimage import img_as_ubyte\n",
    "\n",
    "path = \"python-logo.png\"\n",
    "\n",
    "output_path = '2' + path\n",
    "\n",
    "imagem = imread(path)\n",
    "\n",
    "\"\"\"\n",
    "Verificando se a imagem tem quatro canais (RGBA)\n",
    "Imagens com a extenção .jpg não tem,\n",
    "Imagens com a extenção .png tem\n",
    "\"\"\"\n",
    "if imagem.shape[2] == 4:    \n",
    "    # Extraimos apenas os canais RGB (ignorando o canal Alpha)\n",
    "    imagem = imagem[:, :, :3]\n",
    "\n",
    "imagem_cinza = rgb2gray(imagem)\n",
    "\n",
    "linha, coluna = imagem_cinza.shape\n",
    "\n",
    "for l in range(0,linha):\n",
    "    # como vamos comparar o elemento atual com o da direita, não devemos ir até o final com o elemento atual e sim com o proximo elemento\n",
    "    for c in range(0,coluna-1):\n",
    "        if imagem_cinza[l][c] == imagem_cinza[l][c+1]:\n",
    "            imagem_cinza[l][c] = 0\n",
    "            \n",
    "    \n",
    "            \n",
    "\n",
    "# Convertendoo para tipo de imagem unsigned byte (0-255) antes de salvar (se não fizer da erro)\n",
    "imsave(output_path, img_as_ubyte(imagem_cinza))  "
   ]
  },
  {
   "cell_type": "markdown",
   "metadata": {},
   "source": [
    "3) Leia uma imagem colorida, calcule as componentes no modelo de cores RGB. Calcule a maior e menor intensidade dos pixels em cada componente."
   ]
  },
  {
   "cell_type": "code",
   "execution_count": null,
   "metadata": {},
   "outputs": [],
   "source": []
  },
  {
   "cell_type": "markdown",
   "metadata": {},
   "source": [
    "4) Leia uma imagem colorida, calcule as componentes no modelo de cores RGB.  Atribua o valor 255 a todos os pixels com intensidade maior que 150, faça isso em cada componente. Após isso, junte as componentes para formar uma imagem colorida novamente e salve o resultado."
   ]
  },
  {
   "cell_type": "code",
   "execution_count": null,
   "metadata": {},
   "outputs": [],
   "source": []
  },
  {
   "cell_type": "markdown",
   "metadata": {},
   "source": [
    "5) Aplique ruído em uma imagem utilizando a função \"skimage.util.random_noise\" com os seguites parâmentros: ‘s&p’,‘gaussian’ e ‘speckle’. Cada um desses parâmetros irá gerar uma imagem com ruído. Após isso, aplique funções disponíveis em 'skimage.filters' para recuperar as imagens."
   ]
  },
  {
   "cell_type": "code",
   "execution_count": null,
   "metadata": {
    "collapsed": true,
    "jupyter": {
     "outputs_hidden": true
    }
   },
   "outputs": [],
   "source": []
  },
  {
   "cell_type": "markdown",
   "metadata": {},
   "source": [
    "6) Aplique pelo menos 3 métodos diferentes para binarizar uma imagem ('skimage.filters')."
   ]
  },
  {
   "cell_type": "code",
   "execution_count": null,
   "metadata": {
    "collapsed": true,
    "jupyter": {
     "outputs_hidden": true
    }
   },
   "outputs": [],
   "source": []
  },
  {
   "cell_type": "markdown",
   "metadata": {},
   "source": [
    "7) Aplique pelo menos 3 métodos diferentes ('skimage.filters') para calcular as bordas de uma imagem utilizando como entrada o resultado da questão anterior."
   ]
  },
  {
   "cell_type": "code",
   "execution_count": null,
   "metadata": {},
   "outputs": [],
   "source": []
  },
  {
   "cell_type": "markdown",
   "metadata": {},
   "source": [
    "8) Recorte uma imagem da seguinte forma:\n",
    "- O corte será feito no canal de cor com a maior média de pixels.\n",
    "- O centro do corte deve ser o pixel com o maior desvio padrão em uma janela 3x3.\n",
    "- O tamanho do recorte será 1/4 do tamanho da imagem. Ex: Imagem 100 x 80 -> Recorte 25 x 20\n",
    "- Cuidado com as bordas! Caso uma janela fique fora da imagem, o centro do recorte deverá ser alterado."
   ]
  },
  {
   "cell_type": "code",
   "execution_count": null,
   "metadata": {},
   "outputs": [],
   "source": []
  }
 ],
 "metadata": {
  "anaconda-cloud": {},
  "kernelspec": {
   "display_name": "Python 3",
   "language": "python",
   "name": "python3"
  },
  "language_info": {
   "codemirror_mode": {
    "name": "ipython",
    "version": 3
   },
   "file_extension": ".py",
   "mimetype": "text/x-python",
   "name": "python",
   "nbconvert_exporter": "python",
   "pygments_lexer": "ipython3",
   "version": "3.11.5"
  }
 },
 "nbformat": 4,
 "nbformat_minor": 4
}
