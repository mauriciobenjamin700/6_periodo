{
 "cells": [
  {
   "cell_type": "markdown",
   "metadata": {},
   "source": [
    "Dada a lista=[12,-2,4,8,29,45,78,36,-17,2,12,8,3,3,-52] faça um programa que:  \n",
    "imprima o maior elemento \n",
    "imprima o menor elemento \n",
    "imprima os númerospares  \n",
    "imprima o númerode ocorrênciasdo primeiro elemento da lista \n",
    "imprima a médiados elementos ́imprima a soma dos elementos de valor negativo \n"
   ]
  },
  {
   "cell_type": "code",
   "execution_count": 6,
   "metadata": {},
   "outputs": [
    {
     "name": "stdout",
     "output_type": "stream",
     "text": [
      "Maior elemento: 78\n",
      "Menor elemento: -52\n",
      "Numeros pares: \n",
      "12, -2, 4, 8, 78, 36, 2, 12, 8, -52, \n",
      "O número 12 ocorreu 2 \n",
      "Média dos elementos = 11.266666666666667\n",
      "Soma dos valores negativos =  -71\n"
     ]
    }
   ],
   "source": [
    "lista=[12,-2,4,8,29,45,78,36,-17,2,12,8,3,3,-52]\n",
    "\n",
    "print(f\"Maior elemento: {max(lista)}\")\n",
    "\n",
    "print(f\"Menor elemento: {min(lista)}\")\n",
    "\n",
    "print(\"Numeros pares: \")\n",
    "for num in lista:\n",
    "    if num % 2 == 0:\n",
    "        print(f\"{num}, \",end='')\n",
    "        \n",
    "print(f\"\\nO número {lista[0]} ocorreu {lista.count(lista[0])} \")\n",
    "\n",
    "print(f\"Média dos elementos = {sum(lista)/len(lista)}\")\n",
    "\n",
    "negativo = 0\n",
    "\n",
    "for num in lista:\n",
    "    if num < 0:\n",
    "        negativo += num\n",
    "\n",
    "print(\"Soma dos valores negativos = \",negativo)\n",
    "\n",
    "\n",
    "        \n",
    "\n"
   ]
  },
  {
   "cell_type": "markdown",
   "metadata": {},
   "source": [
    "Faça um programa utilizando um dictque leia dados de entrada do usuário. O usuário deve entrar com os dados de uma pessoa como nome, idade e cidade onde mora. Após isso, você deve imprimir os dados como o exemplo abaixo:"
   ]
  },
  {
   "cell_type": "code",
   "execution_count": 7,
   "metadata": {},
   "outputs": [
    {
     "name": "stdout",
     "output_type": "stream",
     "text": [
      "nome: Mauricio\n",
      "idade: 20\n",
      "cidade: Bocaina\n"
     ]
    }
   ],
   "source": [
    "d = dict()\n",
    "\n",
    "d['nome'] = input(\"Nome: \")\n",
    "\n",
    "d['idade'] = int(input(\"Idade: \"))\n",
    "\n",
    "d['cidade'] = input(\"Cidade: \")\n",
    "\n",
    "print(f\"nome: {d['nome']}\\nidade: {d['idade']}\\ncidade: {d['cidade']}\")"
   ]
  },
  {
   "cell_type": "markdown",
   "metadata": {},
   "source": [
    "Utilize o exercício anterior e adicione a pessoa em uma lista. Pergunte ao usuário se ele deseja adicionar uma nova pessoa. Após adicionar dados de algumas pessoas, você deve imprimir todos os dados de cada pessoa de forma organizada. \n"
   ]
  },
  {
   "cell_type": "code",
   "execution_count": 10,
   "metadata": {},
   "outputs": [
    {
     "name": "stdout",
     "output_type": "stream",
     "text": [
      "nome: T1\n",
      "idade: 39\n",
      "cidade: SP\n",
      "\n",
      "nome: T2\n",
      "idade: 22\n",
      "cidade: AAA\n",
      "\n"
     ]
    }
   ],
   "source": [
    "\n",
    "lista = list()\n",
    "\n",
    "while True:\n",
    "    \n",
    "    entrada = input(\"Deseja adicionar uma pessoa? [S/N] :\").upper()\n",
    "    \n",
    "    if entrada == 'S':\n",
    "        d = dict()\n",
    "        d['nome'] = input(\"Nome: \")\n",
    "        d['idade'] = int(input(\"Idade: \"))\n",
    "        d['cidade'] = input(\"Cidade: \")\n",
    "        \n",
    "        lista.append(d)\n",
    "        \n",
    "    else:\n",
    "        break\n",
    "\n",
    "for pessoa in lista:\n",
    "    print(f\"nome: {pessoa['nome']}\\nidade: {pessoa['idade']}\\ncidade: {pessoa['cidade']}\\n\")"
   ]
  },
  {
   "cell_type": "markdown",
   "metadata": {},
   "source": [
    "Faça um programa que carregue uma lista com os modelos de cinco carros (exemplo de modelos: FUSCA, GOL, VECTRA etc). Carregue uma outra lista com o consumo desses carros, isto é, quantos quilômetros cada um desses carros faz com um litro de combustível. Calcule e mostre\n",
    "\n",
    "O modelo do carro mais econômico;\n",
    "\n",
    "Quantos litros de combustível cada um dos carros cadastrados consome para percorrer uma distância de 1000 quilômetros e quanto isto custará, considerando um que a gasolina custe R$ 2,25 o litro.Abaixo segue uma tela de exemplo. O disposição das informações deve ser o mais próxima possível ao exemplo. Os dados são fictícios e podem mudar a cada execução do programa.\n"
   ]
  },
  {
   "cell_type": "code",
   "execution_count": 13,
   "metadata": {},
   "outputs": [
    {
     "name": "stdout",
     "output_type": "stream",
     "text": [
      "O mais econômico é PALIO\n"
     ]
    }
   ],
   "source": [
    "carros = [\"FUSCA\",\"GOL\",\"VECTRA\",\"FIAT\",\"PALIO\"]\n",
    "consumo = [1,2,3,4,5]\n",
    "\n",
    "print(f\"O mais econômico é {carros[consumo.index(max(consumo))]}\")\n",
    "\n",
    "#falta fazer"
   ]
  }
 ],
 "metadata": {
  "kernelspec": {
   "display_name": "Python 3",
   "language": "python",
   "name": "python3"
  },
  "language_info": {
   "codemirror_mode": {
    "name": "ipython",
    "version": 3
   },
   "file_extension": ".py",
   "mimetype": "text/x-python",
   "name": "python",
   "nbconvert_exporter": "python",
   "pygments_lexer": "ipython3",
   "version": "3.11.5"
  },
  "orig_nbformat": 4
 },
 "nbformat": 4,
 "nbformat_minor": 2
}
