{
 "cells": [
  {
   "cell_type": "markdown",
   "metadata": {},
   "source": [
    "Faça um programa que peça a temperatura em graus Farenheit, transforme\n",
    " e mostre a temperatura em graus Celsius: C = (5* (F-32)/9)."
   ]
  },
  {
   "cell_type": "code",
   "execution_count": 3,
   "metadata": {},
   "outputs": [
    {
     "name": "stdout",
     "output_type": "stream",
     "text": [
      "0.43\n"
     ]
    }
   ],
   "source": [
    "temperatura = float(input('Temperatura (F): '))\n",
    "\n",
    "celsius = (5*(temperatura-32)/9)\n",
    "\n",
    "print(f'{celsius:.2f}')"
   ]
  },
  {
   "cell_type": "markdown",
   "metadata": {},
   "source": [
    "João papo-de-pescador comprou um microcomputador para controlar o rendimento diário de seu trabalho. Toda ves que ele traz um peso de peixes maior que o estabelecido pelo regulamento de pesca do estado de são paulo (50 quilos) deve pagar uma multa de 4.0 R$ por quilo excedente. João precisa que vocẽ faça um programa que leia a varíavel peso (peso de peixes) e calcule o excesso. Gravar na variável excesso a quantidade de quilos além do limite e na variável multa o valor da multa que joão deverá pagar. Imprimo os dados do programa com as mensagens adequadas."
   ]
  },
  {
   "cell_type": "code",
   "execution_count": 13,
   "metadata": {},
   "outputs": [
    {
     "name": "stdout",
     "output_type": "stream",
     "text": [
      "Não houve problemas com sua pesca!\n"
     ]
    }
   ],
   "source": [
    "peso = float(input(\"KG: \"))\n",
    "\n",
    "REGULAMENTO = 50.0\n",
    "\n",
    "MULTA = 4.0\n",
    "\n",
    "excesso = 0\n",
    "mult = 0\n",
    "\n",
    "if peso > REGULAMENTO:\n",
    "    excesso = peso - REGULAMENTO\n",
    "    \n",
    "mult = excesso * MULTA\n",
    "\n",
    "if(mult == 0 ):  \n",
    "    print(F\"Não houve problemas com sua pesca!\")\n",
    "else:\n",
    "    print(f\"Sua pesca de {peso} excedeu em {excesso} o regulamento de {REGULAMENTO} gerando uma multa de {mult:.2f}\")"
   ]
  },
  {
   "cell_type": "markdown",
   "metadata": {},
   "source": [
    "Faça um programa que pergunte quanto você ganha por hora e o número de horas trabalhadas no mês.\n",
    "Calcule e mostre o total do seu salário no referido mês, sabe-se que são descontados 11% para o imposto de \n",
    "Renda, 8% para o INSS e 5% para o sindicato, faça um programa que nos dê:\n",
    "\n",
    "a) salário bruto;\n",
    "b) quanto pagou ao INSS;\n",
    "c) quanto pagou ao sindicato.\n",
    "d) o salário líquido\n",
    "e) calcule os descontos e o salário líquido, conforme a tabela a baixo:\n",
    "    + Salário Bruto : R$\n",
    "    - IR (11%) : R$\n",
    "    - INSS (8%) : R$\n",
    "    - Sindicato (5%) : R$\n",
    "    = Salário Liquido : R$  -> salário bruto - descontos == salário líquido\n"
   ]
  },
  {
   "cell_type": "code",
   "execution_count": 15,
   "metadata": {},
   "outputs": [
    {
     "name": "stdout",
     "output_type": "stream",
     "text": [
      "\n",
      "Salario bruto: 1320.00\n",
      "Imposto de Renda: 145.20\n",
      "Taxa INSS: 105.60\n",
      "Taxa Sindicato: 66.00\n",
      "Salário Líquido: 1003.20\n"
     ]
    }
   ],
   "source": [
    "valor_hora = float(input(\"Valor da Hora: \"))\n",
    "hora = int(input(\"Horas Trabalhadas: \"))\n",
    "\n",
    "salario_bruto = valor_hora * hora\n",
    "\n",
    "imposto_renda = salario_bruto * 0.11\n",
    "imposto_INSS = salario_bruto * 0.08\n",
    "imposto_sindicato = salario_bruto * 0.05\n",
    "salario_liquido = salario_bruto - (imposto_renda + imposto_INSS + imposto_sindicato)\n",
    "\n",
    "print(f\"\\nSalario bruto: {salario_bruto:.2f}\\nImposto de Renda: {imposto_renda:.2f}\\nTaxa INSS: {imposto_INSS:.2f}\\nTaxa Sindicato: {imposto_sindicato:.2f}\\nSalário Líquido: {salario_liquido:.2f}\")\n",
    "\n"
   ]
  },
  {
   "cell_type": "markdown",
   "metadata": {},
   "source": [
    "Faça um Programa que peça os 3 lados de um triângulo. O programa deverá informar se os valores podem ser um triângulo. Indique, caso os lados formem um triângulo, se o mesmo é: equilátero, isósceles ou escaleno. Dicas: ́\n",
    "Três lados formam um triângulo quando a soma de quaisquer dois lados for maior que o terceiro; \n",
    "́Triângulo Equilátero: três lados iguais; \n",
    "́Triângulo Isósceles: quaisquer dois lados iguais; \n",
    "́Triângulo Escaleno: três lados diferentes;"
   ]
  },
  {
   "cell_type": "code",
   "execution_count": 3,
   "metadata": {},
   "outputs": [
    {
     "name": "stdout",
     "output_type": "stream",
     "text": [
      "\n",
      "Forma triangulo, sendo ele = Escaleno\n"
     ]
    }
   ],
   "source": [
    "l1 = int(input(\"Lado 1: \"))\n",
    "l2 = int(input(\"Lado 2: \"))\n",
    "l3 = int(input(\"Lado 3: \"))\n",
    "\n",
    "def equilatero(l1,l2,l3):\n",
    "    return (l1==l2 and l1 == l3)\n",
    "\n",
    "def isosceles(l1,l2,l3):\n",
    "    return (l1==l2 or l1==l3 or l2==l3)\n",
    "\n",
    "def escaleno(l1,l2,l3):\n",
    "    return (l1 != l2 and l1 != l3 and l2 != l3)\n",
    "\n",
    "if (l1+l2>l3 or l1+l3 > l2 or l2+l3>l1):\n",
    "    #forma triangulo\n",
    "    \n",
    "    print(\"\\nForma triangulo, sendo ele = \",end='')\n",
    "    \n",
    "    if  equilatero(l1,l2,l3):\n",
    "        print(\"Equilátero\")\n",
    "        \n",
    "    elif isosceles(l1,l2,l3):\n",
    "        print(\"Isósceles\")\n",
    "    \n",
    "    elif escaleno(l1,l2,l3):\n",
    "        print(\"Escaleno\")\n",
    "    \n",
    "    else:\n",
    "        print(\"Invalido\")\n",
    "        \n",
    "else:\n",
    "    print(\"Não forma triangulo\")"
   ]
  },
  {
   "cell_type": "markdown",
   "metadata": {},
   "source": [
    "Um posto está vendendo combustíveis com a seguinte tabela de descontos:\n",
    "\n",
    "a)Álcool: \n",
    "até 20 litros, desconto de 3% por litro \n",
    "acima de 20 litros, desconto de 5% por litro\n",
    "\n",
    "b)Gasolina: \n",
    "até 20 litros, desconto de 4% por litro \n",
    "acima de 20 litros, desconto de 6% por litro \n",
    "\n",
    "Escreva um algoritmo que leia o número de litros vendidos, o tipo de combustível (codificado da seguinte forma: A-álcool, G-gasolina), calcule e imprima o valor a ser pago pelo cliente sabendo-se que o preço do litro da gasolina é R$ 4,53 o preço do litro do álcool é R$ 3,45.\n",
    "\n"
   ]
  },
  {
   "cell_type": "code",
   "execution_count": 7,
   "metadata": {},
   "outputs": [
    {
     "name": "stdout",
     "output_type": "stream",
     "text": [
      "Valor a ser pago: 3.35\n"
     ]
    }
   ],
   "source": [
    "PRECO_GASOLINA = 4.53\n",
    "PRECO_ALCOOL = 3.45\n",
    "\n",
    "litros = float(input(\"Litros: \"))\n",
    "tipo = input(\"Tipo de combustivel [A/G]: \").upper()\n",
    "custo = 0\n",
    "\n",
    "if (tipo == 'A'):\n",
    "    if (litros > 0 and litros <= 20):\n",
    "        custo = (litros*PRECO_ALCOOL)\n",
    "        custo =  custo - (custo*0.03)\n",
    "    else:\n",
    "        custo = (litros*PRECO_ALCOOL)\n",
    "        custo =  custo - (custo*0.05)\n",
    "        \n",
    "elif (tipo == 'G'):\n",
    "    if (litros > 0 and litros <= 20):\n",
    "        custo = (litros*PRECO_GASOLINA)\n",
    "        custo =  custo - (custo*0.04)\n",
    "    \n",
    "    else:\n",
    "        custo = (litros*PRECO_GASOLINA)\n",
    "        custo =  custo - (custo*0.06)\n",
    "\n",
    "print(f\"Valor a ser pago: {custo:.2f}\")\n",
    "\n"
   ]
  },
  {
   "cell_type": "markdown",
   "metadata": {},
   "source": [
    "Faça um programa que peça dois números, base e expoente, calcule e mostre o primeiro número elevado ao segundo número. Não utilize a função de potência da linguagem."
   ]
  },
  {
   "cell_type": "code",
   "execution_count": 9,
   "metadata": {},
   "outputs": [
    {
     "name": "stdout",
     "output_type": "stream",
     "text": [
      "2^3 = 8\n"
     ]
    }
   ],
   "source": [
    "base = int(input(\"Base: \"))\n",
    "expoente = int(input(\"Expoente: \"))\n",
    "resultado = base ** expoente\n",
    "\n",
    "print(f\"{base}^{expoente} = {resultado}\")"
   ]
  },
  {
   "cell_type": "markdown",
   "metadata": {},
   "source": [
    "Faça um programa que calcule o fatorial de um número inteiro fornecido pelo usuário. Ex.: 5!=5.4.3.2.1=120"
   ]
  },
  {
   "cell_type": "code",
   "execution_count": 11,
   "metadata": {},
   "outputs": [
    {
     "name": "stdout",
     "output_type": "stream",
     "text": [
      "o fatorial de 5 é 120\n"
     ]
    }
   ],
   "source": [
    "def fatorial(num):\n",
    "    if (num>1):\n",
    "        return num * fatorial(num-1)\n",
    "    else:\n",
    "        return 1\n",
    "\n",
    "num = int(input(\"Numero: \"))\n",
    "\n",
    "print(f\"o fatorial de {num} é {fatorial(num)}\")\n"
   ]
  },
  {
   "cell_type": "markdown",
   "metadata": {},
   "source": [
    "Altere o programa de cálculo do fatorial, permitindo ao usuário calcular o fatorial várias vezes e limitando o fatorial a números inteiros positivos e menores que 16."
   ]
  },
  {
   "cell_type": "code",
   "execution_count": 14,
   "metadata": {},
   "outputs": [
    {
     "name": "stdout",
     "output_type": "stream",
     "text": [
      "Digite apenas números positivos e menores que 16, caso contrario o programa será encerrado\n",
      "o fatorial de 5 é 120\n",
      "o fatorial de 6 é 720\n",
      "o fatorial de 7 é 5040\n"
     ]
    }
   ],
   "source": [
    "print(\"Digite apenas números positivos e menores que 16, caso contrario o programa será encerrado\")\n",
    "while True:\n",
    "    \n",
    "    num = int(input(\"Numero: \"))\n",
    "    \n",
    "    if(num > 0 and num < 16):\n",
    "\n",
    "        print(f\"o fatorial de {num} é {fatorial(num)}\")\n",
    "    \n",
    "    else:\n",
    "        break\n",
    "    \n",
    "print(\"Sistema encerrado!\")\n",
    "\n",
    "    "
   ]
  },
  {
   "cell_type": "markdown",
   "metadata": {},
   "source": [
    "Desenvolva um programa que faça a tabuada de um número qualquer inteiro que será digitado pelo usuário, mas a tabuada não deve necessariamente iniciar em 1 e terminar em 10, o valor inicial e final devem ser informados também pelo usuário, conforme exemplo abaixo:"
   ]
  },
  {
   "cell_type": "code",
   "execution_count": 15,
   "metadata": {},
   "outputs": [
    {
     "name": "stdout",
     "output_type": "stream",
     "text": [
      "Vou montar a tabuada de 5 começando em 4 e terminando em 7\n",
      "5 x 4 = 20\n",
      "5 x 5 = 25\n",
      "5 x 6 = 30\n",
      "5 x 7 = 35\n"
     ]
    }
   ],
   "source": [
    "tabuada = int(input(\"Motnar a tabuada de: \"))\n",
    "\n",
    "inicio = int(input(\"Começar por: \"))\n",
    "\n",
    "fim = int(input(\"Terminar em: \"))\n",
    "\n",
    "print(f\"Vou montar a tabuada de {tabuada} começando em {inicio} e terminando em {fim}\")\n",
    "for i in range(inicio,fim+1,1):\n",
    "    print(f\"{tabuada} x {i} = {tabuada*i}\")"
   ]
  }
 ],
 "metadata": {
  "kernelspec": {
   "display_name": "Python 3",
   "language": "python",
   "name": "python3"
  },
  "language_info": {
   "codemirror_mode": {
    "name": "ipython",
    "version": 3
   },
   "file_extension": ".py",
   "mimetype": "text/x-python",
   "name": "python",
   "nbconvert_exporter": "python",
   "pygments_lexer": "ipython3",
   "version": "3.11.5"
  },
  "orig_nbformat": 4
 },
 "nbformat": 4,
 "nbformat_minor": 2
}
