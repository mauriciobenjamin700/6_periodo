{
 "cells": [
  {
   "cell_type": "markdown",
   "metadata": {},
   "source": [
    "Os seguintes valores são calculado com o histograma e são largamente utilizados para representar imagens:\n",
    "- Média\n",
    "- Variância\n",
    "- Skewness\n",
    "- Kurtosis\n",
    "- Energia\n",
    "- Entropia\n",
    "\n"
   ]
  },
  {
   "cell_type": "code",
   "execution_count": null,
   "metadata": {},
   "outputs": [],
   "source": [
    "#dependencias necessárias\n",
    "!python -m pip install -U scikit-image\n",
    "!python -m pip install -U scikit-learn\n",
    "!python -m pip install -U scipy\n",
    "!python -m pip install -U pandas\n",
    "!python -m pip install -U opencv-python\n",
    "!python -m pip install -U openpyxl\n",
    "!python -m pip install -U matplotlib\n",
    "\n",
    "\n"
   ]
  },
  {
   "cell_type": "code",
   "execution_count": null,
   "metadata": {},
   "outputs": [],
   "source": []
  },
  {
   "cell_type": "code",
   "execution_count": null,
   "metadata": {},
   "outputs": [],
   "source": [
    "\n",
    "def descritor_histograma(img_rgb):\n",
    "    \"\"\"\n",
    "    Recebe uma imagem RGB como parâmetro\n",
    "    \"\"\"\n",
    "    import numpy as np\n",
    "\n",
    "    # Defina o número de intervalos de intensidade (256 para imagens em 8 bits)\n",
    "    num_bins = 256\n",
    "\n",
    "    # Inicialize o histograma para cada canal de cor\n",
    "    hist_r = np.zeros(num_bins, dtype=int)\n",
    "    hist_g = np.zeros(num_bins, dtype=int)\n",
    "    hist_b = np.zeros(num_bins, dtype=int)\n",
    "\n",
    "    # Calcule o histograma manualmente para cada canal\n",
    "    for row in img_rgb:\n",
    "        for pixel in row:\n",
    "            hist_r[pixel[0]] += 1\n",
    "            hist_g[pixel[1]] += 1\n",
    "            hist_b[pixel[2]] += 1\n",
    "\n",
    "    # Calcule a média para cada canal\n",
    "    mean_r = np.sum([i * hist_r[i] for i in range(num_bins)]) / np.sum(hist_r)\n",
    "    mean_g = np.sum([i * hist_g[i] for i in range(num_bins)]) / np.sum(hist_g)\n",
    "    mean_b = np.sum([i * hist_b[i] for i in range(num_bins)]) / np.sum(hist_b)\n",
    "\n",
    "    media = mean_r + mean_g + mean_r\n",
    "\n",
    "    # Calcule a variância para cada canal\n",
    "    variance_r = np.sum([(i - mean_r) ** 2 * hist_r[i] for i in range(num_bins)]) / np.sum(hist_r)\n",
    "    variance_g = np.sum([(i - mean_g) ** 2 * hist_g[i] for i in range(num_bins)]) / np.sum(hist_g)\n",
    "    variance_b = np.sum([(i - mean_b) ** 2 * hist_b[i] for i in range(num_bins)]) / np.sum(hist_b)\n",
    "\n",
    "    var = variance_r + variance_g + variance_b\n",
    "\n",
    "    # Calcule a skewness para cada canal\n",
    "    skewness_r = np.sum([((i - mean_r) / np.sqrt(variance_r)) ** 3 * hist_r[i] for i in range(num_bins)]) / np.sum(hist_r)\n",
    "    skewness_g = np.sum([((i - mean_g) / np.sqrt(variance_g)) ** 3 * hist_g[i] for i in range(num_bins)]) / np.sum(hist_g)\n",
    "    skewness_b = np.sum([((i - mean_b) / np.sqrt(variance_b)) ** 3 * hist_b[i] for i in range(num_bins)]) / np.sum(hist_b)\n",
    "\n",
    "    sk = skewness_r + skewness_g + skewness_b\n",
    "\n",
    "    # Calcule a kurtosis para cada canal\n",
    "    kurtosis_r = np.sum([((i - mean_r) / np.sqrt(variance_r)) ** 4 * hist_r[i] for i in range(num_bins)]) / np.sum(hist_r)\n",
    "    kurtosis_g = np.sum([((i - mean_g) / np.sqrt(variance_g)) ** 4 * hist_g[i] for i in range(num_bins)]) / np.sum(hist_g)\n",
    "    kurtosis_b = np.sum([((i - mean_b) / np.sqrt(variance_b)) ** 4 * hist_b[i] for i in range(num_bins)]) / np.sum(hist_b)\n",
    "\n",
    "    kur = kurtosis_r + kurtosis_g + kurtosis_b\n",
    "\n",
    "    # Calcule a energia para cada canal\n",
    "    energy_r = np.sum(hist_r ** 2)\n",
    "    energy_g = np.sum(hist_g ** 2)\n",
    "    energy_b = np.sum(hist_b ** 2)\n",
    "\n",
    "    ener = energy_r + energy_g + energy_b\n",
    "\n",
    "    # Calcule a entropia para cada canal\n",
    "    hist_normalized_r = hist_r / np.sum(hist_r)\n",
    "    entropy_r = -np.sum(hist_normalized_r * np.log2(hist_normalized_r + np.finfo(float).eps))\n",
    "\n",
    "    hist_normalized_g = hist_g / np.sum(hist_g)\n",
    "    entropy_g = -np.sum(hist_normalized_g * np.log2(hist_normalized_g + np.finfo(float).eps))\n",
    "\n",
    "    hist_normalized_b = hist_b / np.sum(hist_b)\n",
    "    entropy_b = -np.sum(hist_normalized_b * np.log2(hist_normalized_b + np.finfo(float).eps))\n",
    "\n",
    "    entr = entropy_r + entropy_g + entropy_b\n",
    "\n",
    "\n",
    "    return [media,var,sk,kur,ener,entr]\n",
    "\n"
   ]
  },
  {
   "cell_type": "markdown",
   "metadata": {},
   "source": [
    "- Procurar uma base de imagens com duas classes ou mais\n",
    "- Calcular os atributos de primeira ordem para cada imagem, e criar uma matriz, e adicionar uma coluna na matriz para os rótulos das classes. \n",
    "- Plotar os atributos dois a dois (scatter plot)\n",
    "- A entrega será:\n",
    "    - Notebook com os códigos;\n",
    "    - Short paper de até 4 páginas com:\n",
    "        - Introdução: apresentar o problema/base escolhida;\n",
    "        - Metodologia: explicar os atributos e como são calculados;\n",
    "        - Resultados: resultado da classificação e scatter plots dos atributos;\n",
    "        - Extra: plotar os atributos utilizando um algoritmo de redução de dimensionalidade, ex: PCA, t-SNE;\n",
    "        - Conclusão.\n",
    "- Será feito pela equipe definida no inicio da disciplina;\n",
    "- Entrega e apresentação: 25/10/2023"
   ]
  },
  {
   "cell_type": "code",
   "execution_count": null,
   "metadata": {},
   "outputs": [],
   "source": [
    "from sklearn.model_selection import train_test_split\n",
    "from sklearn.neural_network import MLPClassifier as mlp\n",
    "from sklearn.metrics import accuracy_score\n",
    "\n",
    "def classification(X,y):\n",
    "\n",
    "    \"\"\"\n",
    "    X é uma matriz onde cada linha corresponde aos atributos calculados com o descritor\n",
    "    y são os rótulos da classe de cada imagem. Exemplo [0,1,0,0,1,2,2,0,0,0,...,1]\n",
    "    \"\"\"\n",
    "    \n",
    "    # separar conjuntos de treino e teste\n",
    "    X_train,X_test,y_train,y_test = train_test_split(X,y,train_size=0.7)\n",
    "    # criar instancia do classificador\n",
    "    clf = mlp()\n",
    "    # treinar o classificador\n",
    "    clf.fit(X_train,y_train)\n",
    "    # realizar a predicao\n",
    "    pred = clf.predict(X_test)\n",
    "    # calcular o resultado utilizando a acuracia\n",
    "    acuracia = accuracy_score(y_test,pred)\n",
    "    \n",
    "    return acuracia"
   ]
  },
  {
   "cell_type": "markdown",
   "metadata": {},
   "source": [
    "# Processamento dos dados"
   ]
  },
  {
   "cell_type": "code",
   "execution_count": null,
   "metadata": {},
   "outputs": [],
   "source": [
    "from glob import glob\n",
    "import pandas as pd\n",
    "from skimage.io import imread\n",
    "\n",
    "data = []\n",
    "\n",
    "dirs = \"dados/*.jpg\"\n",
    "excel_name = 'dados.xlsx'\n",
    "column_names = ['fname', 'deworm', 'mean', 'var', 'skew', 'kurtosis', 'energy', 'entropy']\n",
    "\n",
    "fnames = glob(dirs)\n",
    "\n",
    "for name in fnames:\n",
    "    \n",
    "    vermifuga = 0\n",
    "    \n",
    "    famacha = int(name[-5])\n",
    "    if famacha > 2:\n",
    "        vermifuga = 1\n",
    "    \n",
    "    img = imread(name)\n",
    "    \n",
    "    aux = descritor_histograma(img)\n",
    "    aux.insert(0,name[6:])\n",
    "    aux.insert(1,vermifuga)\n",
    "    data.append(aux)\n",
    "    \n",
    "print(data)\n",
    "\n",
    "df = pd.DataFrame(data,columns=column_names)\n",
    "\n",
    "df.to_excel(excel_name, index=False)"
   ]
  },
  {
   "cell_type": "markdown",
   "metadata": {},
   "source": [
    "# Carregamento dos dados já processados"
   ]
  },
  {
   "cell_type": "code",
   "execution_count": null,
   "metadata": {},
   "outputs": [],
   "source": [
    "import pandas as pd\n",
    "\n",
    "# Carregar o arquivo Excel em um DataFrame\n",
    "df = pd.read_excel('dados.xlsx')\n",
    "\n",
    "\n",
    "matriz = []\n",
    "\n",
    "#salvando os dados em uma matriz\n",
    "for i in range(0,len(df),1):\n",
    "    matriz.append([df[\"mean\"][i],df[\"var\"][i],df[\"skew\"][i],df[\"kurtosis\"][i], df[\"energy\"][i],df[\"entropy\"][i]])\n",
    "\n",
    "famacha = df[\"deworm\"]\n",
    "\n",
    "\n",
    "#print(classification(matriz, famacha))\n"
   ]
  },
  {
   "cell_type": "markdown",
   "metadata": {},
   "source": [
    "# Criação dos Scatter plots 2 a 2"
   ]
  },
  {
   "cell_type": "code",
   "execution_count": 15,
   "metadata": {},
   "outputs": [
    {
     "data": {
      "image/png": "[encoded data removed]",
      "text/plain": [
       "<Figure size 800x600 with 1 Axes>"
      ]
     },
     "metadata": {},
     "output_type": "display_data"
    }
   ],
   "source": [
    "import matplotlib.pyplot as plt\n",
    "import os\n",
    "\n",
    "output = \"scatter_plots\"\n",
    "\n",
    "if not os.path.exists(output):\n",
    "    os.makedirs(output)\n",
    "    \n",
    "columns = [\"mean\", \"var\",\"skew\", \"kurtosis\", \"energy\", \"entropy\"]\n",
    "\n",
    "plt.figure(figsize=(8, 6))\n",
    "\n",
    "for i in range(0,len(columns)-1,1):\n",
    "    for j in range(i+1,len(columns),1):\n",
    "    \n",
    "    \n",
    "        plt.scatter(df[columns[i]], df[columns[j]])\n",
    "        plt.xlabel(columns[i])\n",
    "        plt.ylabel(columns[j])\n",
    "        fig_name = f'{columns[i]} X {columns[j]}'\n",
    "        plt.title(fig_name)\n",
    "        plt.savefig(os.path.sep.join((output,fig_name)))\n",
    "\n"
   ]
  }
 ],
 "metadata": {
  "kernelspec": {
   "display_name": ".venv",
   "language": "python",
   "name": "python3"
  },
  "language_info": {
   "codemirror_mode": {
    "name": "ipython",
    "version": 3
   },
   "file_extension": ".py",
   "mimetype": "text/x-python",
   "name": "python",
   "nbconvert_exporter": "python",
   "pygments_lexer": "ipython3",
   "version": "3.9.16"
  }
 },
 "nbformat": 4,
 "nbformat_minor": 2
}
