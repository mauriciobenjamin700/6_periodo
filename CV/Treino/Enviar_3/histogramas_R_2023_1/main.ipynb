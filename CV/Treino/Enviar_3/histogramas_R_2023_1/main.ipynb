{
 "cells": [
  {
   "cell_type": "markdown",
   "metadata": {},
   "source": [
    "Os seguintes valores são calculado com o histograma e são largamente utilizados para representar imagens:\n",
    "- Média\n",
    "- Variância\n",
    "- Skewness\n",
    "- Kurtosis\n",
    "- Energia\n",
    "- Entropia\n",
    "\n"
   ]
  },
  {
   "cell_type": "code",
   "execution_count": null,
   "metadata": {},
   "outputs": [],
   "source": [
    "from skimage.io import imread\n",
    "import numpy as np\n",
    "from scipy.stats import skew, kurtosis\n",
    "from skimage.measure import shannon_entropy\n",
    "def descritor_histograma(imagem):\n",
    "    \n",
    "    vermifuga = 0\n",
    "    \n",
    "    famacha = int(imagem[-5])\n",
    "    if famacha > 2:\n",
    "        vermifuga = 1\n",
    "        \n",
    "    img = imread(imagem)\n",
    "    \n",
    "    media = np.mean(img)\n",
    "    var = np.var(img)\n",
    "    sk = skew(img,axis=None)\n",
    "    kur = kurtosis(img,axis=None)\n",
    "    ener = np.sum(img**2)\n",
    "    entr = shannon_entropy(img)\n",
    "    \n",
    "    \n",
    "    return [vermifuga, media,var,sk,kur,ener,entr]\n"
   ]
  },
  {
   "cell_type": "markdown",
   "metadata": {},
   "source": [
    "- Procurar uma base de imagens com duas classes ou mais\n",
    "- Calcular os atributos de primeira ordem para cada imagem, e criar uma matriz, e adicionar uma coluna na matriz para os rótulos das classes. \n",
    "- Plotar os atributos dois a dois (scatter plot)\n",
    "- A entrega será:\n",
    "    - Notebook com os códigos;\n",
    "    - Short paper de até 4 páginas com:\n",
    "        - Introdução: apresentar o problema/base escolhida;\n",
    "        - Metodologia: explicar os atributos e como são calculados;\n",
    "        - Resultados: resultado da classificação e scatter plots dos atributos;\n",
    "        - Extra: plotar os atributos utilizando um algoritmo de redução de dimensionalidade, ex: PCA, t-SNE;\n",
    "        - Conclusão.\n",
    "- Será feito pela equipe definida no inicio da disciplina;\n",
    "- Entrega e apresentação: 25/10/2023"
   ]
  },
  {
   "cell_type": "code",
   "execution_count": null,
   "metadata": {},
   "outputs": [],
   "source": [
    "from sklearn.model_selection import train_test_split\n",
    "from sklearn.neural_network import MLPClassifier as mlp\n",
    "from sklearn.metrics import accuracy_score as acc\n",
    "\n",
    "def classification(X,y):\n",
    "\n",
    "    \"\"\"\n",
    "    X é uma matriz onde cada linha corresponde aos atributos calculados com o descritor\n",
    "    y são os rótulos da classe de cada imagem. Exemplo [0,1,0,0,1,2,2,0,0,0,...,1]\n",
    "    \"\"\"\n",
    "    \n",
    "    # separar conjuntos de treino e teste\n",
    "    X_train,X_test,y_train,y_test = train_test_split(X,y,train_size=0.7)\n",
    "    # criar instancia do classificador\n",
    "    clf = mlp()\n",
    "    # treinar o classificador\n",
    "    clf.fit(X_train,y_train)\n",
    "    # realizar a predicao\n",
    "    pred = clf.predict(X_test)\n",
    "    # calcular o resultado utilizando a acuracia\n",
    "    acuracia = acc(y_test,pred)\n",
    "    \n",
    "    return acuracia"
   ]
  },
  {
   "cell_type": "markdown",
   "metadata": {},
   "source": [
    "# Processamento dos dados"
   ]
  },
  {
   "cell_type": "code",
   "execution_count": null,
   "metadata": {},
   "outputs": [],
   "source": [
    "from glob import glob\n",
    "import pandas as pd\n",
    "\n",
    "data = []\n",
    "\n",
    "dirs = \"dados/*.jpg\"\n",
    "excel_name = 'dados.xlsx'\n",
    "column_names = ['fname', 'deworm', 'mean', 'var', 'skew', 'kurtosis', 'energy', 'shannon_entropy']\n",
    "\n",
    "fnames = glob(dirs)\n",
    "\n",
    "for name in fnames:\n",
    "    aux = descritor_histograma(name)\n",
    "    aux.insert(0,name[6:])\n",
    "    data.append(aux)\n",
    "    \n",
    "print(data)\n",
    "\n",
    "df = pd.DataFrame(data,columns=column_names)\n",
    "\n",
    "df.to_excel(excel_name, index=False)"
   ]
  },
  {
   "cell_type": "markdown",
   "metadata": {},
   "source": [
    "# Carregamento dos dados já processados"
   ]
  },
  {
   "cell_type": "code",
   "execution_count": 29,
   "metadata": {},
   "outputs": [
    {
     "name": "stdout",
     "output_type": "stream",
     "text": [
      "0              img100_3.jpg\n",
      "1              img244_3.jpg\n",
      "2              img222_1.jpg\n",
      "3               img77_3.jpg\n",
      "4               img33_4.jpg\n",
      "               ...         \n",
      "248            img144_2.jpg\n",
      "249             img88_5.jpg\n",
      "250            img129_1.jpg\n",
      "251             img20_4.jpg\n",
      "252    2023-09-13&m49_3.jpg\n",
      "Name: fname, Length: 253, dtype: object\n"
     ]
    }
   ],
   "source": [
    "import pandas as pd\n",
    "\n",
    "# Carregar o arquivo Excel em um DataFrame\n",
    "df = pd.read_excel('dados.xlsx')\n",
    "\n",
    "# Exibir o DataFrame\n",
    "print(df[\"fname\"])\n"
   ]
  }
 ],
 "metadata": {
  "kernelspec": {
   "display_name": ".venv",
   "language": "python",
   "name": "python3"
  },
  "language_info": {
   "codemirror_mode": {
    "name": "ipython",
    "version": 3
   },
   "file_extension": ".py",
   "mimetype": "text/x-python",
   "name": "python",
   "nbconvert_exporter": "python",
   "pygments_lexer": "ipython3",
   "version": "3.10.12"
  }
 },
 "nbformat": 4,
 "nbformat_minor": 2
}
